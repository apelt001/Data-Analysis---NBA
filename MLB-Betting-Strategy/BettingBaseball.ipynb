{
 "cells": [
  {
   "cell_type": "markdown",
   "id": "bdaf5717",
   "metadata": {},
   "source": [
    "# A basic approach to betting Baseball <img src=\"y.jpg\" alt=\"Description\" style=\"float: right; width: 300px;\">\n",
    "\n",
    "Here is a basic introduction on how I use past MLB moneyline odds to get insight on betting strategies. I am working on getting both weather and pitching data together, but for now, I only use data from the teams recent win-loss performance. The dataset contains regular seasons 2017-2019 and 2021-present. The odds source is Yahoo Sports."
   ]
  },
  {
   "cell_type": "code",
   "execution_count": 35,
   "id": "6159fc7c",
   "metadata": {},
   "outputs": [],
   "source": [
    "import pandas as pd\n",
    "import matplotlib.pyplot as plt\n",
    "%matplotlib inline\n",
    "import warnings\n",
    "warnings.filterwarnings('ignore')\n",
    "df = pd.read_csv('data.csv')"
   ]
  },
  {
   "cell_type": "markdown",
   "id": "463aa27a",
   "metadata": {},
   "source": [
    "Let's start with a betting strategy I have bet on in the past.\n",
    "\n",
    "- A **home team** that has **lost two** or more straight games facing a team that has **won two** or more in a row, that are facing off in the **third game** of a series. We look only at games of this type that fall on a saturday or sunday."
   ]
  },
  {
   "cell_type": "code",
   "execution_count": 28,
   "id": "e4a83ee4",
   "metadata": {},
   "outputs": [
    {
     "data": {
      "text/html": [
       "<div>\n",
       "<style scoped>\n",
       "    .dataframe tbody tr th:only-of-type {\n",
       "        vertical-align: middle;\n",
       "    }\n",
       "\n",
       "    .dataframe tbody tr th {\n",
       "        vertical-align: top;\n",
       "    }\n",
       "\n",
       "    .dataframe thead th {\n",
       "        text-align: right;\n",
       "    }\n",
       "</style>\n",
       "<table border=\"1\" class=\"dataframe\">\n",
       "  <thead>\n",
       "    <tr style=\"text-align: right;\">\n",
       "      <th></th>\n",
       "      <th>count</th>\n",
       "      <th>sum</th>\n",
       "      <th>mean</th>\n",
       "    </tr>\n",
       "    <tr>\n",
       "      <th>season</th>\n",
       "      <th></th>\n",
       "      <th></th>\n",
       "      <th></th>\n",
       "    </tr>\n",
       "  </thead>\n",
       "  <tbody>\n",
       "    <tr>\n",
       "      <th>2017</th>\n",
       "      <td>89</td>\n",
       "      <td>1690.71</td>\n",
       "      <td>19.00</td>\n",
       "    </tr>\n",
       "    <tr>\n",
       "      <th>2018</th>\n",
       "      <td>95</td>\n",
       "      <td>-153.14</td>\n",
       "      <td>-1.61</td>\n",
       "    </tr>\n",
       "    <tr>\n",
       "      <th>2019</th>\n",
       "      <td>80</td>\n",
       "      <td>714.74</td>\n",
       "      <td>8.93</td>\n",
       "    </tr>\n",
       "    <tr>\n",
       "      <th>2021</th>\n",
       "      <td>67</td>\n",
       "      <td>-1143.68</td>\n",
       "      <td>-17.07</td>\n",
       "    </tr>\n",
       "    <tr>\n",
       "      <th>2022</th>\n",
       "      <td>89</td>\n",
       "      <td>490.62</td>\n",
       "      <td>5.51</td>\n",
       "    </tr>\n",
       "    <tr>\n",
       "      <th>2023</th>\n",
       "      <td>108</td>\n",
       "      <td>1104.65</td>\n",
       "      <td>10.23</td>\n",
       "    </tr>\n",
       "    <tr>\n",
       "      <th>2024</th>\n",
       "      <td>82</td>\n",
       "      <td>1295.55</td>\n",
       "      <td>15.80</td>\n",
       "    </tr>\n",
       "    <tr>\n",
       "      <th>2025</th>\n",
       "      <td>28</td>\n",
       "      <td>433.81</td>\n",
       "      <td>15.49</td>\n",
       "    </tr>\n",
       "  </tbody>\n",
       "</table>\n",
       "</div>"
      ],
      "text/plain": [
       "        count      sum   mean\n",
       "season                       \n",
       "2017       89  1690.71  19.00\n",
       "2018       95  -153.14  -1.61\n",
       "2019       80   714.74   8.93\n",
       "2021       67 -1143.68 -17.07\n",
       "2022       89   490.62   5.51\n",
       "2023      108  1104.65  10.23\n",
       "2024       82  1295.55  15.80\n",
       "2025       28   433.81  15.49"
      ]
     },
     "execution_count": 28,
     "metadata": {},
     "output_type": "execute_result"
    }
   ],
   "source": [
    "A = df['loss_streak']>= 2\n",
    "B = df['win_streak_opp'] >= 2\n",
    "C = df['is_home']\n",
    "D = df['series_game_no'] == 3\n",
    "E = df['weekday'].isin([5,6])\n",
    "FILTER = A&B&C&D&E\n",
    "DATA = df.loc[FILTER].groupby('season')['hundred_ml'].agg(['count','sum','mean'])\n",
    "DATA['sum'] = DATA['sum'].apply(lambda x: round(x,2))\n",
    "DATA['mean'] = DATA['mean'].apply(lambda x: round(x,2))\n",
    "DATA"
   ]
  },
  {
   "cell_type": "markdown",
   "id": "e9dacba6",
   "metadata": {},
   "source": [
    "The only losing seasons for this betting strategy were in **2018** and **2021**, with **2021** showing a big loss but **2024** with just as big of  profit. Let's chart the cumulative profit over time for this betting strategy:"
   ]
  },
  {
   "cell_type": "code",
   "execution_count": 50,
   "id": "c4f1711c",
   "metadata": {},
   "outputs": [
    {
     "data": {
      "image/png": "[encoded data removed]",
      "text/plain": [
       "<Figure size 432x288 with 1 Axes>"
      ]
     },
     "metadata": {
      "needs_background": "light"
     },
     "output_type": "display_data"
    }
   ],
   "source": [
    "X = df.loc[FILTER,'date']\n",
    "Y = df.loc[FILTER,'hundred_ml'].cumsum()\n",
    "plt.figure()\n",
    "plt.plot(X,Y)\n",
    "plt.title(\"Profit over time - A Simple betting strategy\")\n",
    "ticks = plt.xticks(ticks = X.values.tolist()[::100],rotation = 45)"
   ]
  },
  {
   "cell_type": "markdown",
   "id": "2328c996",
   "metadata": {},
   "source": [
    "To re-emphasize the betting strategy:\n",
    "\n",
    "- If **home team** has lost the first two games of a three game set, bet them to win the third game."
   ]
  },
  {
   "cell_type": "markdown",
   "id": "3a8d3cd5",
   "metadata": {},
   "source": [
    " Taking a step back, let's compare overall home winning percentages by year:"
   ]
  },
  {
   "cell_type": "code",
   "execution_count": 19,
   "id": "d45dac2a",
   "metadata": {},
   "outputs": [
    {
     "data": {
      "text/html": [
       "<div>\n",
       "<style scoped>\n",
       "    .dataframe tbody tr th:only-of-type {\n",
       "        vertical-align: middle;\n",
       "    }\n",
       "\n",
       "    .dataframe tbody tr th {\n",
       "        vertical-align: top;\n",
       "    }\n",
       "\n",
       "    .dataframe thead th {\n",
       "        text-align: right;\n",
       "    }\n",
       "</style>\n",
       "<table border=\"1\" class=\"dataframe\">\n",
       "  <thead>\n",
       "    <tr style=\"text-align: right;\">\n",
       "      <th></th>\n",
       "      <th>count</th>\n",
       "      <th>mean</th>\n",
       "    </tr>\n",
       "    <tr>\n",
       "      <th>season</th>\n",
       "      <th></th>\n",
       "      <th></th>\n",
       "    </tr>\n",
       "  </thead>\n",
       "  <tbody>\n",
       "    <tr>\n",
       "      <th>2017</th>\n",
       "      <td>2402</td>\n",
       "      <td>0.541</td>\n",
       "    </tr>\n",
       "    <tr>\n",
       "      <th>2018</th>\n",
       "      <td>2392</td>\n",
       "      <td>0.529</td>\n",
       "    </tr>\n",
       "    <tr>\n",
       "      <th>2019</th>\n",
       "      <td>2343</td>\n",
       "      <td>0.527</td>\n",
       "    </tr>\n",
       "    <tr>\n",
       "      <th>2021</th>\n",
       "      <td>2179</td>\n",
       "      <td>0.540</td>\n",
       "    </tr>\n",
       "    <tr>\n",
       "      <th>2022</th>\n",
       "      <td>2428</td>\n",
       "      <td>0.533</td>\n",
       "    </tr>\n",
       "    <tr>\n",
       "      <th>2023</th>\n",
       "      <td>2430</td>\n",
       "      <td>0.521</td>\n",
       "    </tr>\n",
       "    <tr>\n",
       "      <th>2024</th>\n",
       "      <td>2428</td>\n",
       "      <td>0.522</td>\n",
       "    </tr>\n",
       "    <tr>\n",
       "      <th>2025</th>\n",
       "      <td>1015</td>\n",
       "      <td>0.549</td>\n",
       "    </tr>\n",
       "  </tbody>\n",
       "</table>\n",
       "</div>"
      ],
      "text/plain": [
       "        count   mean\n",
       "season              \n",
       "2017     2402  0.541\n",
       "2018     2392  0.529\n",
       "2019     2343  0.527\n",
       "2021     2179  0.540\n",
       "2022     2428  0.533\n",
       "2023     2430  0.521\n",
       "2024     2428  0.522\n",
       "2025     1015  0.549"
      ]
     },
     "execution_count": 23,
     "metadata": {},
     "output_type": "execute_result"
    }
   ],
   "source": [
    "DATA2 = df[df['is_home']].groupby('season')['win'].agg(['count','mean'])\n",
    "DATA2['mean'] = DATA2['mean'].apply(lambda x: round(x,3))\n",
    "DATA2"
   ]
  },
  {
   "cell_type": "markdown",
   "id": "f7a50172",
   "metadata": {},
   "source": [
    "The home team win rate seems to be around **53%**. If we compare by **series game number**, we see that the home team performs slightly better as the series goes on. The home teams wins 2 more games out of every 100 in series game fourth game of a set rather than the first game of a set. "
   ]
  },
  {
   "cell_type": "code",
   "execution_count": 20,
   "id": "f4e0d44b",
   "metadata": {},
   "outputs": [
    {
     "data": {
      "text/html": [
       "<div>\n",
       "<style scoped>\n",
       "    .dataframe tbody tr th:only-of-type {\n",
       "        vertical-align: middle;\n",
       "    }\n",
       "\n",
       "    .dataframe tbody tr th {\n",
       "        vertical-align: top;\n",
       "    }\n",
       "\n",
       "    .dataframe thead th {\n",
       "        text-align: right;\n",
       "    }\n",
       "</style>\n",
       "<table border=\"1\" class=\"dataframe\">\n",
       "  <thead>\n",
       "    <tr style=\"text-align: right;\">\n",
       "      <th></th>\n",
       "      <th>count</th>\n",
       "      <th>mean</th>\n",
       "    </tr>\n",
       "    <tr>\n",
       "      <th>series_game_no</th>\n",
       "      <th></th>\n",
       "      <th></th>\n",
       "    </tr>\n",
       "  </thead>\n",
       "  <tbody>\n",
       "    <tr>\n",
       "      <th>1</th>\n",
       "      <td>5735</td>\n",
       "      <td>0.523</td>\n",
       "    </tr>\n",
       "    <tr>\n",
       "      <th>2</th>\n",
       "      <td>5672</td>\n",
       "      <td>0.531</td>\n",
       "    </tr>\n",
       "    <tr>\n",
       "      <th>3</th>\n",
       "      <td>5079</td>\n",
       "      <td>0.539</td>\n",
       "    </tr>\n",
       "    <tr>\n",
       "      <th>4</th>\n",
       "      <td>1110</td>\n",
       "      <td>0.543</td>\n",
       "    </tr>\n",
       "  </tbody>\n",
       "</table>\n",
       "</div>"
      ],
      "text/plain": [
       "                count   mean\n",
       "series_game_no              \n",
       "1                5735  0.523\n",
       "2                5672  0.531\n",
       "3                5079  0.539\n",
       "4                1110  0.543"
      ]
     },
     "execution_count": 24,
     "metadata": {},
     "output_type": "execute_result"
    }
   ],
   "source": [
    "DATA3 = df[df['is_home']].groupby('series_game_no')['win'].agg(['count','mean']).head(4)\n",
    "DATA3['mean'] = DATA3['mean'].apply(lambda x: round(x,3))\n",
    "DATA3"
   ]
  },
  {
   "cell_type": "markdown",
   "id": "660a821f",
   "metadata": {},
   "source": [
    "This is my basic approach to betting; slice data from past seasons based on a given betting strategy, and analyze the %ROI results. \n",
    "\n",
    "This approach is *arguably dumb*. Most investors in any speculation market will tell you that the past does not predict the future. Or, if you believe in the efficient market hypothesis, any supposed advantage a certain team will have over another will already be reflected in the current moneyline price before the game starts."
   ]
  },
  {
   "cell_type": "markdown",
   "id": "2928a58d",
   "metadata": {},
   "source": []
  }
 ],
 "metadata": {
  "kernelspec": {
   "display_name": "Python 3",
   "language": "python",
   "name": "python3"
  },
  "language_info": {
   "codemirror_mode": {
    "name": "ipython",
    "version": 3
   },
   "file_extension": ".py",
   "mimetype": "text/x-python",
   "name": "python",
   "nbconvert_exporter": "python",
   "pygments_lexer": "ipython3",
   "version": "3.9.2"
  }
 },
 "nbformat": 4,
 "nbformat_minor": 5
}

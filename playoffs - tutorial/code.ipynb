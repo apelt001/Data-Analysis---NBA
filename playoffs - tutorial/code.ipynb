{
 "cells": [
  {
   "cell_type": "markdown",
   "id": "08a94b88-09c9-4278-bbed-93edb94debd3",
   "metadata": {},
   "source": [
    "# Making use of Playoff Game Logs <img src=\"playoffs.jpeg\" style=\"height:100px\" align = 'right' />\n",
    "\n",
    "We're looking at historical NBA playoff series data, on a period by period level. I will go through how I pull the data using python's [nba_api](https://github.com/swar/nba_api) package. We will look at data from seasons `1996-97` through `2024-25`."
   ]
  },
  {
   "cell_type": "code",
   "execution_count": 1,
   "id": "f5520688-e758-493d-9f21-a5bc54baf422",
   "metadata": {},
   "outputs": [],
   "source": [
    "import nba_api.stats.endpoints as nba\n",
    "import pandas as pd\n",
    "import time\n",
    "from nba_api.stats.static import teams"
   ]
  },
  {
   "cell_type": "markdown",
   "id": "24239a5a-d88d-4903-8486-06223b51fe26",
   "metadata": {},
   "source": [
    "Using `TeamGameLogs`, we can pull historical game logs from previous seasons."
   ]
  },
  {
   "cell_type": "code",
   "execution_count": null,
   "id": "77b9f901-20b0-41d3-a7e7-e429556a16fc",
   "metadata": {},
   "outputs": [],
   "source": [
    "def get_game_log(season,measure_type=\"Base\",stype = \"Playoffs\",location = None):\n",
    "\tdf = nba.TeamGameLogs(season_nullable=season,location_nullable = location,measure_type_player_game_logs_nullable=measure_type,season_type_nullable = stype).get_data_frames()[0]\n",
    "\tdf = df.rename(columns = {\"SEASON_YEAR\":\"season\",\"TEAM_ABBREVIATION\":\"team\",\"GAME_DATE\":\"date\"})\n",
    "\treturn df"
   ]
  },
  {
   "cell_type": "code",
   "execution_count": 3,
   "id": "ef609b5a-8a88-4eaf-8a36-1ceec1a418a8",
   "metadata": {},
   "outputs": [],
   "source": [
    "seasons = [str(i)+'-'+str(i+1)[2:] for i in range(1996,2025)]\n",
    "season = seasons[0]\n",
    "df = get_game_log(season)\n",
    "for season in seasons[1:]:\n",
    "\tP = get_game_log(season)\n",
    "\tdf = pd.concat([df,P])\n",
    "\ttime.sleep(0.5)"
   ]
  },
  {
   "cell_type": "markdown",
   "id": "e26b8b8f",
   "metadata": {},
   "source": [
    "Now that we've pulled from the api, we can have a cursory look at what the data looks like. Let's look at the important columns."
   ]
  },
  {
   "cell_type": "code",
   "execution_count": 8,
   "id": "502dcf37",
   "metadata": {},
   "outputs": [
    {
     "data": {
      "text/html": [
       "<div>\n",
       "<style scoped>\n",
       "    .dataframe tbody tr th:only-of-type {\n",
       "        vertical-align: middle;\n",
       "    }\n",
       "\n",
       "    .dataframe tbody tr th {\n",
       "        vertical-align: top;\n",
       "    }\n",
       "\n",
       "    .dataframe thead th {\n",
       "        text-align: right;\n",
       "    }\n",
       "</style>\n",
       "<table border=\"1\" class=\"dataframe\">\n",
       "  <thead>\n",
       "    <tr style=\"text-align: right;\">\n",
       "      <th></th>\n",
       "      <th>team</th>\n",
       "      <th>MATCHUP</th>\n",
       "      <th>WL</th>\n",
       "      <th>PTS</th>\n",
       "      <th>PLUS_MINUS</th>\n",
       "    </tr>\n",
       "    <tr>\n",
       "      <th>date</th>\n",
       "      <th></th>\n",
       "      <th></th>\n",
       "      <th></th>\n",
       "      <th></th>\n",
       "      <th></th>\n",
       "    </tr>\n",
       "  </thead>\n",
       "  <tbody>\n",
       "    <tr>\n",
       "      <th>2025-04-29</th>\n",
       "      <td>NYK</td>\n",
       "      <td>NYK vs. DET</td>\n",
       "      <td>L</td>\n",
       "      <td>103</td>\n",
       "      <td>-3.0</td>\n",
       "    </tr>\n",
       "    <tr>\n",
       "      <th>2025-04-30</th>\n",
       "      <td>MIN</td>\n",
       "      <td>MIN @ LAL</td>\n",
       "      <td>W</td>\n",
       "      <td>103</td>\n",
       "      <td>7.0</td>\n",
       "    </tr>\n",
       "    <tr>\n",
       "      <th>2025-04-30</th>\n",
       "      <td>HOU</td>\n",
       "      <td>HOU vs. GSW</td>\n",
       "      <td>W</td>\n",
       "      <td>131</td>\n",
       "      <td>15.0</td>\n",
       "    </tr>\n",
       "    <tr>\n",
       "      <th>2025-04-30</th>\n",
       "      <td>LAL</td>\n",
       "      <td>LAL vs. MIN</td>\n",
       "      <td>L</td>\n",
       "      <td>96</td>\n",
       "      <td>-7.0</td>\n",
       "    </tr>\n",
       "    <tr>\n",
       "      <th>2025-04-30</th>\n",
       "      <td>GSW</td>\n",
       "      <td>GSW @ HOU</td>\n",
       "      <td>L</td>\n",
       "      <td>116</td>\n",
       "      <td>-15.0</td>\n",
       "    </tr>\n",
       "  </tbody>\n",
       "</table>\n",
       "</div>"
      ],
      "text/plain": [
       "           team      MATCHUP WL  PTS  PLUS_MINUS\n",
       "date                                            \n",
       "2025-04-29  NYK  NYK vs. DET  L  103        -3.0\n",
       "2025-04-30  MIN    MIN @ LAL  W  103         7.0\n",
       "2025-04-30  HOU  HOU vs. GSW  W  131        15.0\n",
       "2025-04-30  LAL  LAL vs. MIN  L   96        -7.0\n",
       "2025-04-30  GSW    GSW @ HOU  L  116       -15.0"
      ]
     },
     "execution_count": 8,
     "metadata": {},
     "output_type": "execute_result"
    }
   ],
   "source": [
    "df['date'] = pd.to_datetime(df['date'])\n",
    "df = df.sort_values('date')\n",
    "df.loc[:,['date','team','MATCHUP','WL','PTS','PLUS_MINUS']].set_index('date').tail()"
   ]
  },
  {
   "cell_type": "markdown",
   "id": "7a9e98d7",
   "metadata": {},
   "source": [
    "We see that the last five rows in the dataset show that the Knicks lost by three, Wolves won by 7, Rockets won by 15, Lakers lost by 7, and Warriors lost by 15. Notice that there are **two rows per game**, one for the home team and one for the away team."
   ]
  },
  {
   "cell_type": "markdown",
   "id": "639fde79-bf40-43b7-aaf1-9d7acaa964f3",
   "metadata": {},
   "source": [
    "## Wrangling until we have the right setup\n",
    "Now, if we want want to look at different playoffs scenarios, we need to do some wrangling. I will create the following columns:\n",
    "- `opp` = Opponent Team abbreviation\n",
    "- `is_home` = **True** if game is at home, **False** if away\n",
    "- `game_no` = **1** for first game of the series, **2** for the second, etc..\n",
    "- `round_no` = **1** (first round), **2** (conference semfinals), **3** (conference finals), and **4** (finals)\n",
    "- `series` - current series standing (e.g. **3-1** if the team is up **3-1** going into the game)\n",
    "- `total_games` - total number of games the series went to.\n",
    "- `has_home_court` - **True** if a team has home court in the series, **False** otherwise.\n",
    "\n",
    "*Note*: The wrangling below only works if your original DataFrame is correctly sorted by date."
   ]
  },
  {
   "cell_type": "code",
   "execution_count": 11,
   "id": "e5ad1ebf-eef1-40d7-bd47-9791e552e5ea",
   "metadata": {},
   "outputs": [],
   "source": [
    "# create 'is_home' and 'opp' columns\n",
    "df['is_home'] = df['MATCHUP'].str.contains(\"vs.\")\n",
    "df['opp'] = df['MATCHUP'].apply(lambda x: x.split(' ')[-1])\n"
   ]
  },
  {
   "cell_type": "code",
   "execution_count": 13,
   "id": "81a0517b",
   "metadata": {},
   "outputs": [
    {
     "data": {
      "text/html": [
       "<div>\n",
       "<style scoped>\n",
       "    .dataframe tbody tr th:only-of-type {\n",
       "        vertical-align: middle;\n",
       "    }\n",
       "\n",
       "    .dataframe tbody tr th {\n",
       "        vertical-align: top;\n",
       "    }\n",
       "\n",
       "    .dataframe thead th {\n",
       "        text-align: right;\n",
       "    }\n",
       "</style>\n",
       "<table border=\"1\" class=\"dataframe\">\n",
       "  <thead>\n",
       "    <tr style=\"text-align: right;\">\n",
       "      <th></th>\n",
       "      <th>team</th>\n",
       "      <th>opp</th>\n",
       "      <th>MATCHUP</th>\n",
       "      <th>WL</th>\n",
       "    </tr>\n",
       "    <tr>\n",
       "      <th>date</th>\n",
       "      <th></th>\n",
       "      <th></th>\n",
       "      <th></th>\n",
       "      <th></th>\n",
       "    </tr>\n",
       "  </thead>\n",
       "  <tbody>\n",
       "    <tr>\n",
       "      <th>2025-04-19</th>\n",
       "      <td>MIN</td>\n",
       "      <td>LAL</td>\n",
       "      <td>MIN @ LAL</td>\n",
       "      <td>W</td>\n",
       "    </tr>\n",
       "    <tr>\n",
       "      <th>2025-04-22</th>\n",
       "      <td>MIN</td>\n",
       "      <td>LAL</td>\n",
       "      <td>MIN @ LAL</td>\n",
       "      <td>L</td>\n",
       "    </tr>\n",
       "    <tr>\n",
       "      <th>2025-04-25</th>\n",
       "      <td>MIN</td>\n",
       "      <td>LAL</td>\n",
       "      <td>MIN vs. LAL</td>\n",
       "      <td>W</td>\n",
       "    </tr>\n",
       "    <tr>\n",
       "      <th>2025-04-27</th>\n",
       "      <td>MIN</td>\n",
       "      <td>LAL</td>\n",
       "      <td>MIN vs. LAL</td>\n",
       "      <td>W</td>\n",
       "    </tr>\n",
       "    <tr>\n",
       "      <th>2025-04-30</th>\n",
       "      <td>MIN</td>\n",
       "      <td>LAL</td>\n",
       "      <td>MIN @ LAL</td>\n",
       "      <td>W</td>\n",
       "    </tr>\n",
       "  </tbody>\n",
       "</table>\n",
       "</div>"
      ],
      "text/plain": [
       "           team  opp      MATCHUP WL\n",
       "date                                \n",
       "2025-04-19  MIN  LAL    MIN @ LAL  W\n",
       "2025-04-22  MIN  LAL    MIN @ LAL  L\n",
       "2025-04-25  MIN  LAL  MIN vs. LAL  W\n",
       "2025-04-27  MIN  LAL  MIN vs. LAL  W\n",
       "2025-04-30  MIN  LAL    MIN @ LAL  W"
      ]
     },
     "execution_count": 13,
     "metadata": {},
     "output_type": "execute_result"
    }
   ],
   "source": [
    "MIN = df[df['team'] == 'MIN']\n",
    "MIN.loc[:,['date','team','opp','MATCHUP','WL']].set_index('date').tail(5)"
   ]
  },
  {
   "cell_type": "markdown",
   "id": "b763512a-96f8-4172-a0d0-faa73085810f",
   "metadata": {},
   "source": [
    "To create the `game_no` column, I will use pandas's [df.groupby](https://pandas.pydata.org/docs/reference/api/pandas.DataFrame.groupby.html) meathod on `season`,`team` and `opp`, along with a temporary `counter` combined with [pd.cumsum()](https://pandas.pydata.org/docs/reference/api/pandas.DataFrame.cumsum.html). This is a very common/standard workflow in data cleaning.\n"
   ]
  },
  {
   "cell_type": "code",
   "execution_count": 18,
   "id": "ba81dbc1-8be6-490d-9ffd-c1cc6d6cd626",
   "metadata": {},
   "outputs": [],
   "source": [
    "# Create the 'game_no' column\n",
    "df['counter'] = 1\n",
    "df['game_no'] = df.groupby(['season','team','opp'])['counter'].cumsum()\n",
    "df = df.drop(columns = ['counter'])"
   ]
  },
  {
   "cell_type": "code",
   "execution_count": 19,
   "id": "1129657a",
   "metadata": {},
   "outputs": [
    {
     "data": {
      "text/html": [
       "<div>\n",
       "<style scoped>\n",
       "    .dataframe tbody tr th:only-of-type {\n",
       "        vertical-align: middle;\n",
       "    }\n",
       "\n",
       "    .dataframe tbody tr th {\n",
       "        vertical-align: top;\n",
       "    }\n",
       "\n",
       "    .dataframe thead th {\n",
       "        text-align: right;\n",
       "    }\n",
       "</style>\n",
       "<table border=\"1\" class=\"dataframe\">\n",
       "  <thead>\n",
       "    <tr style=\"text-align: right;\">\n",
       "      <th></th>\n",
       "      <th>team</th>\n",
       "      <th>opp</th>\n",
       "      <th>game_no</th>\n",
       "      <th>WL</th>\n",
       "    </tr>\n",
       "    <tr>\n",
       "      <th>date</th>\n",
       "      <th></th>\n",
       "      <th></th>\n",
       "      <th></th>\n",
       "      <th></th>\n",
       "    </tr>\n",
       "  </thead>\n",
       "  <tbody>\n",
       "    <tr>\n",
       "      <th>2025-04-19</th>\n",
       "      <td>MIN</td>\n",
       "      <td>LAL</td>\n",
       "      <td>1</td>\n",
       "      <td>W</td>\n",
       "    </tr>\n",
       "    <tr>\n",
       "      <th>2025-04-22</th>\n",
       "      <td>MIN</td>\n",
       "      <td>LAL</td>\n",
       "      <td>2</td>\n",
       "      <td>L</td>\n",
       "    </tr>\n",
       "    <tr>\n",
       "      <th>2025-04-25</th>\n",
       "      <td>MIN</td>\n",
       "      <td>LAL</td>\n",
       "      <td>3</td>\n",
       "      <td>W</td>\n",
       "    </tr>\n",
       "    <tr>\n",
       "      <th>2025-04-27</th>\n",
       "      <td>MIN</td>\n",
       "      <td>LAL</td>\n",
       "      <td>4</td>\n",
       "      <td>W</td>\n",
       "    </tr>\n",
       "    <tr>\n",
       "      <th>2025-04-30</th>\n",
       "      <td>MIN</td>\n",
       "      <td>LAL</td>\n",
       "      <td>5</td>\n",
       "      <td>W</td>\n",
       "    </tr>\n",
       "  </tbody>\n",
       "</table>\n",
       "</div>"
      ],
      "text/plain": [
       "           team  opp  game_no WL\n",
       "date                            \n",
       "2025-04-19  MIN  LAL        1  W\n",
       "2025-04-22  MIN  LAL        2  L\n",
       "2025-04-25  MIN  LAL        3  W\n",
       "2025-04-27  MIN  LAL        4  W\n",
       "2025-04-30  MIN  LAL        5  W"
      ]
     },
     "execution_count": 19,
     "metadata": {},
     "output_type": "execute_result"
    }
   ],
   "source": [
    "MIN = df[df['team'] == 'MIN']\n",
    "MIN.loc[:,['date','team','opp','game_no','WL']].set_index('date').tail(5)"
   ]
  },
  {
   "cell_type": "markdown",
   "id": "696b2de4-5701-4e3c-a542-fb35c572ba8f",
   "metadata": {},
   "source": [
    "Now to create the `series` column, I first create `series_wins` and `series_losses` columns. Then I will concatenate the two joined by a *-* in between."
   ]
  },
  {
   "cell_type": "code",
   "execution_count": 20,
   "id": "142c3974-6253-4653-9fad-8e895a903eac",
   "metadata": {},
   "outputs": [],
   "source": [
    "# get the current number of series wins\n",
    "df['win'] = 0\n",
    "df.loc[df['WL']=='W','win'] = 1\n",
    "df['series_wins'] = df.groupby(['season','team','opp'])['win'].transform(lambda x: x.cumsum().shift().fillna(0))\n",
    "df['series_wins'] = df['series_wins'].astype(int)\n",
    "\n",
    "#get the current number of series losses\n",
    "df['loss'] = 0\n",
    "df.loc[df['WL']=='L','loss'] = 1\n",
    "df['series_losses'] = df.groupby(['season','team','opp'])['loss'].transform(lambda x: x.cumsum().shift().fillna(0))\n",
    "df['series_losses'] = df['series_losses'].astype(int)\n",
    "\n",
    "\n",
    "\n",
    "# create a 'series' column (represents what the series is at going into the game)\n",
    "def do_series(s):\n",
    "    w,l = s['series_wins'],s['series_losses']\n",
    "    return str(w)+'-'+str(l)\n",
    "df['series'] = df.apply(do_series,axis = 1)"
   ]
  },
  {
   "cell_type": "code",
   "execution_count": 21,
   "id": "74452b1d",
   "metadata": {},
   "outputs": [
    {
     "data": {
      "text/html": [
       "<div>\n",
       "<style scoped>\n",
       "    .dataframe tbody tr th:only-of-type {\n",
       "        vertical-align: middle;\n",
       "    }\n",
       "\n",
       "    .dataframe tbody tr th {\n",
       "        vertical-align: top;\n",
       "    }\n",
       "\n",
       "    .dataframe thead th {\n",
       "        text-align: right;\n",
       "    }\n",
       "</style>\n",
       "<table border=\"1\" class=\"dataframe\">\n",
       "  <thead>\n",
       "    <tr style=\"text-align: right;\">\n",
       "      <th></th>\n",
       "      <th>team</th>\n",
       "      <th>opp</th>\n",
       "      <th>game_no</th>\n",
       "      <th>series</th>\n",
       "      <th>WL</th>\n",
       "    </tr>\n",
       "    <tr>\n",
       "      <th>date</th>\n",
       "      <th></th>\n",
       "      <th></th>\n",
       "      <th></th>\n",
       "      <th></th>\n",
       "      <th></th>\n",
       "    </tr>\n",
       "  </thead>\n",
       "  <tbody>\n",
       "    <tr>\n",
       "      <th>2025-04-19</th>\n",
       "      <td>MIN</td>\n",
       "      <td>LAL</td>\n",
       "      <td>1</td>\n",
       "      <td>0-0</td>\n",
       "      <td>W</td>\n",
       "    </tr>\n",
       "    <tr>\n",
       "      <th>2025-04-22</th>\n",
       "      <td>MIN</td>\n",
       "      <td>LAL</td>\n",
       "      <td>2</td>\n",
       "      <td>1-0</td>\n",
       "      <td>L</td>\n",
       "    </tr>\n",
       "    <tr>\n",
       "      <th>2025-04-25</th>\n",
       "      <td>MIN</td>\n",
       "      <td>LAL</td>\n",
       "      <td>3</td>\n",
       "      <td>1-1</td>\n",
       "      <td>W</td>\n",
       "    </tr>\n",
       "    <tr>\n",
       "      <th>2025-04-27</th>\n",
       "      <td>MIN</td>\n",
       "      <td>LAL</td>\n",
       "      <td>4</td>\n",
       "      <td>2-1</td>\n",
       "      <td>W</td>\n",
       "    </tr>\n",
       "    <tr>\n",
       "      <th>2025-04-30</th>\n",
       "      <td>MIN</td>\n",
       "      <td>LAL</td>\n",
       "      <td>5</td>\n",
       "      <td>3-1</td>\n",
       "      <td>W</td>\n",
       "    </tr>\n",
       "  </tbody>\n",
       "</table>\n",
       "</div>"
      ],
      "text/plain": [
       "           team  opp  game_no series WL\n",
       "date                                   \n",
       "2025-04-19  MIN  LAL        1    0-0  W\n",
       "2025-04-22  MIN  LAL        2    1-0  L\n",
       "2025-04-25  MIN  LAL        3    1-1  W\n",
       "2025-04-27  MIN  LAL        4    2-1  W\n",
       "2025-04-30  MIN  LAL        5    3-1  W"
      ]
     },
     "execution_count": 21,
     "metadata": {},
     "output_type": "execute_result"
    }
   ],
   "source": [
    "MIN = df[df['team'] == 'MIN']\n",
    "MIN.loc[:,['date','team','opp','game_no','series','WL']].set_index('date').tail(5)"
   ]
  },
  {
   "cell_type": "markdown",
   "id": "cf3690f0",
   "metadata": {},
   "source": [
    "Neat! 😇. Just what I wanted to do: we see that the wolves won in 5. Coming into the game, they were up **3-1**, and this is reflected in the `series` column."
   ]
  },
  {
   "cell_type": "markdown",
   "id": "87f670af",
   "metadata": {},
   "source": [
    "To create the `round_no` column, I first create a dataframe that contains all the opponents a team faced that year. Then I return the index for that team."
   ]
  },
  {
   "cell_type": "code",
   "execution_count": 22,
   "id": "c34251de-b88e-49cd-8de0-77889684aaad",
   "metadata": {},
   "outputs": [],
   "source": [
    "# Create a 'round_no' column (1 = first round, 2 = second round, 3 = third round, 4 = fourth round)\n",
    "opponents_faced = df.groupby(['season','team'])['opp'].unique()\n",
    "def get_round_number(s):\n",
    "    season,team,opp = s['season'],s['team'],s['opp']\n",
    "    k = (season,team)\n",
    "    l = opponents_faced.loc[k].tolist()\n",
    "    return l.index(opp)+1\n",
    "df['round_no'] = df.apply(get_round_number,axis = 1)"
   ]
  },
  {
   "cell_type": "markdown",
   "id": "81048bac",
   "metadata": {},
   "source": [
    "Now to create the `total_games` column, I group by matchup and use the pandas' `.size()` method. This allows me to return the size of each group."
   ]
  },
  {
   "cell_type": "code",
   "execution_count": 23,
   "id": "cb8e2c42",
   "metadata": {},
   "outputs": [],
   "source": [
    "# get the total number of games\n",
    "totals = df.groupby(['season','team','opp']).size()\n",
    "def get_num_games(s):\n",
    "    season,team,matchup = s['season'],s['team'],s['opp']\n",
    "    k = (season,team,matchup)\n",
    "    return totals.loc[k]\n",
    "df['total_games'] = df.apply(get_num_games,axis = 1)\t\n"
   ]
  },
  {
   "cell_type": "markdown",
   "id": "558e5364",
   "metadata": {},
   "source": [
    "To create the `has_home_court` column, I look at the first game of each series to determine who has home court advantage. Then, I use pandas [pd.merge](https://pandas.pydata.org/docs/reference/api/pandas.DataFrame.merge.html) to add this column to our DataFrame."
   ]
  },
  {
   "cell_type": "code",
   "execution_count": 24,
   "id": "ec51e592",
   "metadata": {},
   "outputs": [],
   "source": [
    "# Create the 'has_home_court' in series column\n",
    "X = df.groupby(['season','team','opp']).first()['is_home']\n",
    "X = X.reset_index()\n",
    "X = X.rename(columns = {'is_home':'has_home_court'})\n",
    "df = pd.merge(df,X, on = ['season','team','opp'], how = 'left')"
   ]
  },
  {
   "cell_type": "code",
   "execution_count": null,
   "id": "cda71d21",
   "metadata": {},
   "outputs": [
    {
     "data": {
      "text/html": [
       "<div>\n",
       "<style scoped>\n",
       "    .dataframe tbody tr th:only-of-type {\n",
       "        vertical-align: middle;\n",
       "    }\n",
       "\n",
       "    .dataframe tbody tr th {\n",
       "        vertical-align: top;\n",
       "    }\n",
       "\n",
       "    .dataframe thead th {\n",
       "        text-align: right;\n",
       "    }\n",
       "</style>\n",
       "<table border=\"1\" class=\"dataframe\">\n",
       "  <thead>\n",
       "    <tr style=\"text-align: right;\">\n",
       "      <th></th>\n",
       "      <th>team</th>\n",
       "      <th>opp</th>\n",
       "      <th>game_no</th>\n",
       "      <th>round_no</th>\n",
       "      <th>has_home_court</th>\n",
       "      <th>series</th>\n",
       "      <th>WL</th>\n",
       "    </tr>\n",
       "    <tr>\n",
       "      <th>date</th>\n",
       "      <th></th>\n",
       "      <th></th>\n",
       "      <th></th>\n",
       "      <th></th>\n",
       "      <th></th>\n",
       "      <th></th>\n",
       "      <th></th>\n",
       "    </tr>\n",
       "  </thead>\n",
       "  <tbody>\n",
       "    <tr>\n",
       "      <th>2025-04-19</th>\n",
       "      <td>MIN</td>\n",
       "      <td>LAL</td>\n",
       "      <td>1</td>\n",
       "      <td>1</td>\n",
       "      <td>False</td>\n",
       "      <td>0-0</td>\n",
       "      <td>W</td>\n",
       "    </tr>\n",
       "    <tr>\n",
       "      <th>2025-04-22</th>\n",
       "      <td>MIN</td>\n",
       "      <td>LAL</td>\n",
       "      <td>2</td>\n",
       "      <td>1</td>\n",
       "      <td>False</td>\n",
       "      <td>1-0</td>\n",
       "      <td>L</td>\n",
       "    </tr>\n",
       "    <tr>\n",
       "      <th>2025-04-25</th>\n",
       "      <td>MIN</td>\n",
       "      <td>LAL</td>\n",
       "      <td>3</td>\n",
       "      <td>1</td>\n",
       "      <td>False</td>\n",
       "      <td>1-1</td>\n",
       "      <td>W</td>\n",
       "    </tr>\n",
       "    <tr>\n",
       "      <th>2025-04-27</th>\n",
       "      <td>MIN</td>\n",
       "      <td>LAL</td>\n",
       "      <td>4</td>\n",
       "      <td>1</td>\n",
       "      <td>False</td>\n",
       "      <td>2-1</td>\n",
       "      <td>W</td>\n",
       "    </tr>\n",
       "    <tr>\n",
       "      <th>2025-04-30</th>\n",
       "      <td>MIN</td>\n",
       "      <td>LAL</td>\n",
       "      <td>5</td>\n",
       "      <td>1</td>\n",
       "      <td>False</td>\n",
       "      <td>3-1</td>\n",
       "      <td>W</td>\n",
       "    </tr>\n",
       "  </tbody>\n",
       "</table>\n",
       "</div>"
      ],
      "text/plain": [
       "           team  opp  game_no  round_no  has_home_court series WL\n",
       "date                                                             \n",
       "2025-04-19  MIN  LAL        1         1           False    0-0  W\n",
       "2025-04-22  MIN  LAL        2         1           False    1-0  L\n",
       "2025-04-25  MIN  LAL        3         1           False    1-1  W\n",
       "2025-04-27  MIN  LAL        4         1           False    2-1  W\n",
       "2025-04-30  MIN  LAL        5         1           False    3-1  W"
      ]
     },
     "metadata": {},
     "output_type": "display_data"
    }
   ],
   "source": [
    "MIN = df[df['team'] == 'MIN']\n",
    "MIN.loc[:,['date','team','opp','game_no','round_no','has_home_court','series','WL']].set_index('date').tail(5)"
   ]
  },
  {
   "cell_type": "markdown",
   "id": "032769af",
   "metadata": {},
   "source": [
    "The TWolves were the 6 seed, the Lakers the 3 seed. So this is why the `has_home_court` is **False** for this series."
   ]
  },
  {
   "cell_type": "markdown",
   "id": "c3bc46ac",
   "metadata": {},
   "source": [
    "# What can we do with our data?"
   ]
  },
  {
   "cell_type": "markdown",
   "id": "f0688a5d",
   "metadata": {},
   "source": [
    "Let's see what our added columns look like:"
   ]
  },
  {
   "cell_type": "code",
   "execution_count": 26,
   "id": "1129748a",
   "metadata": {},
   "outputs": [
    {
     "data": {
      "text/html": [
       "<div>\n",
       "<style scoped>\n",
       "    .dataframe tbody tr th:only-of-type {\n",
       "        vertical-align: middle;\n",
       "    }\n",
       "\n",
       "    .dataframe tbody tr th {\n",
       "        vertical-align: top;\n",
       "    }\n",
       "\n",
       "    .dataframe thead th {\n",
       "        text-align: right;\n",
       "    }\n",
       "</style>\n",
       "<table border=\"1\" class=\"dataframe\">\n",
       "  <thead>\n",
       "    <tr style=\"text-align: right;\">\n",
       "      <th></th>\n",
       "      <th>team</th>\n",
       "      <th>opp</th>\n",
       "      <th>is_home</th>\n",
       "      <th>has_home_court</th>\n",
       "      <th>game_no</th>\n",
       "      <th>round_no</th>\n",
       "      <th>series</th>\n",
       "      <th>WL</th>\n",
       "    </tr>\n",
       "    <tr>\n",
       "      <th>date</th>\n",
       "      <th></th>\n",
       "      <th></th>\n",
       "      <th></th>\n",
       "      <th></th>\n",
       "      <th></th>\n",
       "      <th></th>\n",
       "      <th></th>\n",
       "      <th></th>\n",
       "    </tr>\n",
       "  </thead>\n",
       "  <tbody>\n",
       "    <tr>\n",
       "      <th>2025-04-29</th>\n",
       "      <td>NYK</td>\n",
       "      <td>DET</td>\n",
       "      <td>True</td>\n",
       "      <td>True</td>\n",
       "      <td>5</td>\n",
       "      <td>1</td>\n",
       "      <td>3-1</td>\n",
       "      <td>L</td>\n",
       "    </tr>\n",
       "    <tr>\n",
       "      <th>2025-04-30</th>\n",
       "      <td>MIN</td>\n",
       "      <td>LAL</td>\n",
       "      <td>False</td>\n",
       "      <td>False</td>\n",
       "      <td>5</td>\n",
       "      <td>1</td>\n",
       "      <td>3-1</td>\n",
       "      <td>W</td>\n",
       "    </tr>\n",
       "    <tr>\n",
       "      <th>2025-04-30</th>\n",
       "      <td>HOU</td>\n",
       "      <td>GSW</td>\n",
       "      <td>True</td>\n",
       "      <td>True</td>\n",
       "      <td>5</td>\n",
       "      <td>1</td>\n",
       "      <td>1-3</td>\n",
       "      <td>W</td>\n",
       "    </tr>\n",
       "    <tr>\n",
       "      <th>2025-04-30</th>\n",
       "      <td>LAL</td>\n",
       "      <td>MIN</td>\n",
       "      <td>True</td>\n",
       "      <td>True</td>\n",
       "      <td>5</td>\n",
       "      <td>1</td>\n",
       "      <td>1-3</td>\n",
       "      <td>L</td>\n",
       "    </tr>\n",
       "    <tr>\n",
       "      <th>2025-04-30</th>\n",
       "      <td>GSW</td>\n",
       "      <td>HOU</td>\n",
       "      <td>False</td>\n",
       "      <td>False</td>\n",
       "      <td>5</td>\n",
       "      <td>1</td>\n",
       "      <td>3-1</td>\n",
       "      <td>L</td>\n",
       "    </tr>\n",
       "  </tbody>\n",
       "</table>\n",
       "</div>"
      ],
      "text/plain": [
       "           team  opp  is_home  has_home_court  game_no  round_no series WL\n",
       "date                                                                      \n",
       "2025-04-29  NYK  DET     True            True        5         1    3-1  L\n",
       "2025-04-30  MIN  LAL    False           False        5         1    3-1  W\n",
       "2025-04-30  HOU  GSW     True            True        5         1    1-3  W\n",
       "2025-04-30  LAL  MIN     True            True        5         1    1-3  L\n",
       "2025-04-30  GSW  HOU    False           False        5         1    3-1  L"
      ]
     },
     "execution_count": 26,
     "metadata": {},
     "output_type": "execute_result"
    }
   ],
   "source": [
    "df.loc[:,['date','team','opp','is_home','has_home_court','game_no','round_no','series','WL']].set_index('date').tail()"
   ]
  },
  {
   "cell_type": "markdown",
   "id": "387608bf",
   "metadata": {},
   "source": [
    "As you can see above, the last rows in our data are up-to-date: the **Celtics** were home last night against the **Magic** (Apr 29, 2025), they have home court in the series, and the series was at **3-1** going into the game. Meanwhile, the **Clippers** went into **Denver** tied **2-2**, they don't have home court in the series, and they lost last night."
   ]
  },
  {
   "cell_type": "markdown",
   "id": "14cec91b-b7e1-4674-bd10-1b1fe0314641",
   "metadata": {},
   "source": [
    "## How do higher seeded teams perform by game number?\n",
    "\n",
    "Let's look at how the team with home court advantage fares depending on the game number."
   ]
  },
  {
   "cell_type": "code",
   "execution_count": 35,
   "id": "52ca71c1-9d59-4dd2-8587-a6f57512a54f",
   "metadata": {},
   "outputs": [
    {
     "data": {
      "text/plain": [
       "game_no\n",
       "1    0.720\n",
       "2    0.743\n",
       "3    0.470\n",
       "4    0.506\n",
       "5    0.742\n",
       "6    0.530\n",
       "7    0.667\n",
       "Name: win, dtype: float64"
      ]
     },
     "execution_count": 35,
     "metadata": {},
     "output_type": "execute_result"
    }
   ],
   "source": [
    "FILTER = df['has_home_court']\n",
    "WINNING_PCTS = df.loc[FILTER].groupby(['game_no'])['win'].mean()\n",
    "WINNING_PCTS = WINNING_PCTS.apply(lambda x: round(x,3))\n",
    "WINNING_PCTS"
   ]
  },
  {
   "cell_type": "code",
   "execution_count": 39,
   "id": "d751f4c2",
   "metadata": {},
   "outputs": [
    {
     "data": {
      "image/png": "[encoded data removed]",
      "text/plain": [
       "<Figure size 640x480 with 1 Axes>"
      ]
     },
     "metadata": {},
     "output_type": "display_data"
    }
   ],
   "source": [
    "PLOT = WINNING_PCTS.plot.bar(title = 'Win % of team with home court advantage')"
   ]
  },
  {
   "cell_type": "markdown",
   "id": "484e8dcb-60fc-4c5a-8a2d-cf697b9313d4",
   "metadata": {},
   "source": [
    "There is a noticeable drop in game 7 win percentage. I would allocate this to the fact that if an opponent takes a team to a seventh game, they are probably a good team, so they win more often!"
   ]
  },
  {
   "cell_type": "markdown",
   "id": "fb379547",
   "metadata": {},
   "source": [
    "Let's cut the data in half (pre-2011 and 2011+) to see if these trends continue. "
   ]
  },
  {
   "cell_type": "code",
   "execution_count": 66,
   "id": "637cc8e5",
   "metadata": {},
   "outputs": [],
   "source": [
    "df['post-10'] = df['season'].isin(seasons[15:])"
   ]
  },
  {
   "cell_type": "code",
   "execution_count": 67,
   "id": "f92e6a6c",
   "metadata": {},
   "outputs": [
    {
     "data": {
      "text/html": [
       "<div>\n",
       "<style scoped>\n",
       "    .dataframe tbody tr th:only-of-type {\n",
       "        vertical-align: middle;\n",
       "    }\n",
       "\n",
       "    .dataframe tbody tr th {\n",
       "        vertical-align: top;\n",
       "    }\n",
       "\n",
       "    .dataframe thead th {\n",
       "        text-align: right;\n",
       "    }\n",
       "</style>\n",
       "<table border=\"1\" class=\"dataframe\">\n",
       "  <thead>\n",
       "    <tr style=\"text-align: right;\">\n",
       "      <th></th>\n",
       "      <th>post-10</th>\n",
       "      <th>game_no</th>\n",
       "      <th>win</th>\n",
       "    </tr>\n",
       "  </thead>\n",
       "  <tbody>\n",
       "    <tr>\n",
       "      <th>0</th>\n",
       "      <td>False</td>\n",
       "      <td>1</td>\n",
       "      <td>0.747</td>\n",
       "    </tr>\n",
       "    <tr>\n",
       "      <th>1</th>\n",
       "      <td>False</td>\n",
       "      <td>2</td>\n",
       "      <td>0.764</td>\n",
       "    </tr>\n",
       "    <tr>\n",
       "      <th>2</th>\n",
       "      <td>False</td>\n",
       "      <td>3</td>\n",
       "      <td>0.440</td>\n",
       "    </tr>\n",
       "    <tr>\n",
       "      <th>3</th>\n",
       "      <td>False</td>\n",
       "      <td>4</td>\n",
       "      <td>0.495</td>\n",
       "    </tr>\n",
       "    <tr>\n",
       "      <th>4</th>\n",
       "      <td>False</td>\n",
       "      <td>5</td>\n",
       "      <td>0.776</td>\n",
       "    </tr>\n",
       "    <tr>\n",
       "      <th>5</th>\n",
       "      <td>False</td>\n",
       "      <td>6</td>\n",
       "      <td>0.490</td>\n",
       "    </tr>\n",
       "    <tr>\n",
       "      <th>6</th>\n",
       "      <td>False</td>\n",
       "      <td>7</td>\n",
       "      <td>0.765</td>\n",
       "    </tr>\n",
       "    <tr>\n",
       "      <th>7</th>\n",
       "      <td>True</td>\n",
       "      <td>1</td>\n",
       "      <td>0.690</td>\n",
       "    </tr>\n",
       "    <tr>\n",
       "      <th>8</th>\n",
       "      <td>True</td>\n",
       "      <td>2</td>\n",
       "      <td>0.719</td>\n",
       "    </tr>\n",
       "    <tr>\n",
       "      <th>9</th>\n",
       "      <td>True</td>\n",
       "      <td>3</td>\n",
       "      <td>0.502</td>\n",
       "    </tr>\n",
       "    <tr>\n",
       "      <th>10</th>\n",
       "      <td>True</td>\n",
       "      <td>4</td>\n",
       "      <td>0.517</td>\n",
       "    </tr>\n",
       "    <tr>\n",
       "      <th>11</th>\n",
       "      <td>True</td>\n",
       "      <td>5</td>\n",
       "      <td>0.709</td>\n",
       "    </tr>\n",
       "    <tr>\n",
       "      <th>12</th>\n",
       "      <td>True</td>\n",
       "      <td>6</td>\n",
       "      <td>0.566</td>\n",
       "    </tr>\n",
       "    <tr>\n",
       "      <th>13</th>\n",
       "      <td>True</td>\n",
       "      <td>7</td>\n",
       "      <td>0.591</td>\n",
       "    </tr>\n",
       "  </tbody>\n",
       "</table>\n",
       "</div>"
      ],
      "text/plain": [
       "    post-10  game_no    win\n",
       "0     False        1  0.747\n",
       "1     False        2  0.764\n",
       "2     False        3  0.440\n",
       "3     False        4  0.495\n",
       "4     False        5  0.776\n",
       "5     False        6  0.490\n",
       "6     False        7  0.765\n",
       "7      True        1  0.690\n",
       "8      True        2  0.719\n",
       "9      True        3  0.502\n",
       "10     True        4  0.517\n",
       "11     True        5  0.709\n",
       "12     True        6  0.566\n",
       "13     True        7  0.591"
      ]
     },
     "execution_count": 67,
     "metadata": {},
     "output_type": "execute_result"
    }
   ],
   "source": [
    "FILTER = df['has_home_court']\n",
    "WINNING_PCTS = df.loc[FILTER].groupby(['post-10','game_no'])['win'].mean()\n",
    "WINNING_PCTS = WINNING_PCTS.apply(lambda x: round(x,3))\n",
    "WINNING_PCTS = WINNING_PCTS.reset_index()\n",
    "WINNING_PCTS"
   ]
  },
  {
   "cell_type": "code",
   "execution_count": 81,
   "id": "60f2ba4a",
   "metadata": {},
   "outputs": [
    {
     "data": {
      "image/png": "[encoded data removed]",
      "text/plain": [
       "<Figure size 640x480 with 1 Axes>"
      ]
     },
     "metadata": {},
     "output_type": "display_data"
    }
   ],
   "source": [
    "# Pivot for side-by-side bar plot\n",
    "pivot_df = WINNING_PCTS.pivot(index='game_no', columns='post-10', values='win')\n",
    "\n",
    "# Rename columns for clarity\n",
    "pivot_df.columns = [\"1997 - 2010\", \"'11 - present\"]  # False comes first, True second\n",
    "\n",
    "# Plot\n",
    "PLOT = pivot_df.plot(kind='bar', ylabel='Win %', xlabel='Game Number', title='Win % by Game Number')"
   ]
  },
  {
   "cell_type": "markdown",
   "id": "faf36346",
   "metadata": {},
   "source": [
    "What I notice most is the drop in Game 7 win percentages for the home team. In *recent history* (2011 and later), game sevens have been won by the road team more frequently. However, game sevens are somewhat rare, so we are dealing with a small sample size in both cases. What is interesting, however, is that home teams seem to perform slightly less well in *recent history*."
   ]
  },
  {
   "cell_type": "markdown",
   "id": "ddec2cc9",
   "metadata": {},
   "source": [
    "### Why didn't I just use an LLM?\n",
    "\n",
    "I don't know about you, but when I use an LLM to write my code, I get paranoid. Plus, I started working with data *before* LLMs. I simply feel more comfortable cleaning the data manually myself than having a back and forth an AI until the software understands what I am trying to do."
   ]
  }
 ],
 "metadata": {
  "kernelspec": {
   "display_name": "base",
   "language": "python",
   "name": "python3"
  },
  "language_info": {
   "codemirror_mode": {
    "name": "ipython",
    "version": 3
   },
   "file_extension": ".py",
   "mimetype": "text/x-python",
   "name": "python",
   "nbconvert_exporter": "python",
   "pygments_lexer": "ipython3",
   "version": "3.11.5"
  }
 },
 "nbformat": 4,
 "nbformat_minor": 5
}

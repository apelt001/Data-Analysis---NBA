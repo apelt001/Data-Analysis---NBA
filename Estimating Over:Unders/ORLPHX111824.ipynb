{
 "cells": [
  {
   "cell_type": "markdown",
   "id": "f0b669cd",
   "metadata": {},
   "source": [
    "<img src=\"ORLPHX.jpg\" style=\"float: right; width: 40%\">\n",
    "\n",
    "### Improving an estimator for the Over/Under\n",
    "\n",
    "My current prediction method takes into account offensive rating, defensive rating, and pace of play (see stats.nba.com's [glossary](https://www.nba.com/stats/help/glossary) for how these are defined). However, it does not take into account lineup changes. Here is an example of where this can be an issue: The Phoenix Suns - Orlando Magic current over/under is set at 209.5 (now at 212.5) by BetMGM (see [Yahoo Sports](https://sports.yahoo.com/nba/orlando-magic-phoenix-suns-2024111821/)) This is much lower than my estimator.\n"
   ]
  },
  {
   "cell_type": "markdown",
   "id": "57bcc872",
   "metadata": {},
   "source": [
    "A quick run-down on terminology:\n",
    "\n",
    "    - OFF_RATING = POINTS / 100 POSSESSIONS\n",
    "    - DEF_RATING = POINTS GIVEN UP / 100 POSSESSIONS \n",
    "    - PACE       = POSSESSIONS / 48 MINUTES\n",
    "\n",
    "The reason to scale this way is that some games go into overtime, and some teams play fast. We want a statistic that takes this into account. The reason why looking at *per 100 possessions* is that teams average pretty close to 100 possessions per game (usually a bit under). Taking these `formulas` into account, we can create estimates for game totals."
   ]
  },
  {
   "cell_type": "code",
   "execution_count": 40,
   "id": "862c0803",
   "metadata": {},
   "outputs": [],
   "source": [
    "import pandas as pd\n",
    "import nba_api.stats.endpoints as e\n",
    "import warnings\n",
    "warnings.filterwarnings('ignore')\n",
    "pd.set_option(\"display.max_columns\",None)\n",
    "pd.set_option(\"display.max_rows\",None)\n",
    "pd.options.display.width = 0\n",
    "pd.options.display.max_colwidth = 100"
   ]
  },
  {
   "cell_type": "code",
   "execution_count": 41,
   "id": "862852f2",
   "metadata": {},
   "outputs": [
    {
     "data": {
      "text/html": [
       "<div>\n",
       "<style scoped>\n",
       "    .dataframe tbody tr th:only-of-type {\n",
       "        vertical-align: middle;\n",
       "    }\n",
       "\n",
       "    .dataframe tbody tr th {\n",
       "        vertical-align: top;\n",
       "    }\n",
       "\n",
       "    .dataframe thead th {\n",
       "        text-align: right;\n",
       "    }\n",
       "</style>\n",
       "<table border=\"1\" class=\"dataframe\">\n",
       "  <thead>\n",
       "    <tr style=\"text-align: right;\">\n",
       "      <th></th>\n",
       "      <th>TEAM_NAME</th>\n",
       "      <th>GP</th>\n",
       "      <th>W</th>\n",
       "      <th>L</th>\n",
       "      <th>MIN</th>\n",
       "      <th>OFF_RATING</th>\n",
       "      <th>DEF_RATING</th>\n",
       "      <th>PACE</th>\n",
       "      <th>POSS</th>\n",
       "    </tr>\n",
       "    <tr>\n",
       "      <th>TEAM_ID</th>\n",
       "      <th></th>\n",
       "      <th></th>\n",
       "      <th></th>\n",
       "      <th></th>\n",
       "      <th></th>\n",
       "      <th></th>\n",
       "      <th></th>\n",
       "      <th></th>\n",
       "      <th></th>\n",
       "    </tr>\n",
       "  </thead>\n",
       "  <tbody>\n",
       "    <tr>\n",
       "      <th>1610612753</th>\n",
       "      <td>Orlando Magic</td>\n",
       "      <td>14</td>\n",
       "      <td>8</td>\n",
       "      <td>6</td>\n",
       "      <td>672.0</td>\n",
       "      <td>108.3</td>\n",
       "      <td>103.5</td>\n",
       "      <td>98.75</td>\n",
       "      <td>1379</td>\n",
       "    </tr>\n",
       "    <tr>\n",
       "      <th>1610612756</th>\n",
       "      <td>Phoenix Suns</td>\n",
       "      <td>14</td>\n",
       "      <td>9</td>\n",
       "      <td>5</td>\n",
       "      <td>682.0</td>\n",
       "      <td>112.3</td>\n",
       "      <td>113.4</td>\n",
       "      <td>98.46</td>\n",
       "      <td>1400</td>\n",
       "    </tr>\n",
       "  </tbody>\n",
       "</table>\n",
       "</div>"
      ],
      "text/plain": [
       "                TEAM_NAME  GP  W  L    MIN  OFF_RATING  DEF_RATING   PACE  \\\n",
       "TEAM_ID                                                                     \n",
       "1610612753  Orlando Magic  14  8  6  672.0       108.3       103.5  98.75   \n",
       "1610612756   Phoenix Suns  14  9  5  682.0       112.3       113.4  98.46   \n",
       "\n",
       "            POSS  \n",
       "TEAM_ID           \n",
       "1610612753  1379  \n",
       "1610612756  1400  "
      ]
     },
     "execution_count": 41,
     "metadata": {},
     "output_type": "execute_result"
    }
   ],
   "source": [
    "A = e.LeagueDashTeamStats(season=\"2024-25\",measure_type_detailed_defense=\"Advanced\",date_from_nullable='2024-10-22',date_to_nullable='2024-11-18').get_data_frames()[0]\n",
    "A.loc[:,['TEAM_ID','TEAM_NAME','GP','W','L','MIN','OFF_RATING','DEF_RATING','PACE','POSS']].set_index(\"TEAM_ID\").iloc[[21,23]]"
   ]
  },
  {
   "cell_type": "code",
   "execution_count": 47,
   "id": "d5a6ac35",
   "metadata": {},
   "outputs": [
    {
     "name": "stdout",
     "output_type": "stream",
     "text": [
      "over/under 215.7\n"
     ]
    }
   ],
   "source": [
    "o1,o2,d1,d2,p1,p2 = 108.3,112.3,103.5,113.4,98.75,98.46\n",
    "p = (p1+p2)/2\n",
    "o = (o1+o2)/2\n",
    "d = (d1+d2)/2\n",
    "estimator = p*(o+d)/100\n",
    "print(\"over/under\",round(estimator,2))"
   ]
  },
  {
   "cell_type": "markdown",
   "id": "1653c20c",
   "metadata": {},
   "source": [
    "\n",
    " There are many factors that my estimator is not taking into account, one of those being lineup changes.\n",
    " For the Magic, Banchero has been out since **Oct 31** and Wendell Carter Jr since **Nov 3rd**.\n",
    " For the Suns, Durant has been out since **Nov 8th** and Bradley Beal since **Nov 12**.\n",
    " Let's try and take this into account by changing how I get the offensive ratings, defensive ratings, and paces for each team.\n",
    " I can adjust the `date_to` and `date_from` parameters to obtain more recent data only\n"
   ]
  },
  {
   "cell_type": "code",
   "execution_count": 48,
   "id": "a4db8c5c",
   "metadata": {},
   "outputs": [
    {
     "data": {
      "text/html": [
       "<div>\n",
       "<style scoped>\n",
       "    .dataframe tbody tr th:only-of-type {\n",
       "        vertical-align: middle;\n",
       "    }\n",
       "\n",
       "    .dataframe tbody tr th {\n",
       "        vertical-align: top;\n",
       "    }\n",
       "\n",
       "    .dataframe thead th {\n",
       "        text-align: right;\n",
       "    }\n",
       "</style>\n",
       "<table border=\"1\" class=\"dataframe\">\n",
       "  <thead>\n",
       "    <tr style=\"text-align: right;\">\n",
       "      <th></th>\n",
       "      <th>TEAM_NAME</th>\n",
       "      <th>GP</th>\n",
       "      <th>W</th>\n",
       "      <th>L</th>\n",
       "      <th>MIN</th>\n",
       "      <th>OFF_RATING</th>\n",
       "      <th>DEF_RATING</th>\n",
       "      <th>PACE</th>\n",
       "      <th>POSS</th>\n",
       "    </tr>\n",
       "    <tr>\n",
       "      <th>TEAM_ID</th>\n",
       "      <th></th>\n",
       "      <th></th>\n",
       "      <th></th>\n",
       "      <th></th>\n",
       "      <th></th>\n",
       "      <th></th>\n",
       "      <th></th>\n",
       "      <th></th>\n",
       "      <th></th>\n",
       "    </tr>\n",
       "  </thead>\n",
       "  <tbody>\n",
       "    <tr>\n",
       "      <th>1610612753</th>\n",
       "      <td>Orlando Magic</td>\n",
       "      <td>8</td>\n",
       "      <td>5</td>\n",
       "      <td>3</td>\n",
       "      <td>384.0</td>\n",
       "      <td>106.2</td>\n",
       "      <td>99.4</td>\n",
       "      <td>97.25</td>\n",
       "      <td>776</td>\n",
       "    </tr>\n",
       "    <tr>\n",
       "      <th>1610612756</th>\n",
       "      <td>Phoenix Suns</td>\n",
       "      <td>8</td>\n",
       "      <td>4</td>\n",
       "      <td>4</td>\n",
       "      <td>389.0</td>\n",
       "      <td>112.8</td>\n",
       "      <td>117.7</td>\n",
       "      <td>97.17</td>\n",
       "      <td>788</td>\n",
       "    </tr>\n",
       "  </tbody>\n",
       "</table>\n",
       "</div>"
      ],
      "text/plain": [
       "                TEAM_NAME  GP  W  L    MIN  OFF_RATING  DEF_RATING   PACE  \\\n",
       "TEAM_ID                                                                     \n",
       "1610612753  Orlando Magic   8  5  3  384.0       106.2        99.4  97.25   \n",
       "1610612756   Phoenix Suns   8  4  4  389.0       112.8       117.7  97.17   \n",
       "\n",
       "            POSS  \n",
       "TEAM_ID           \n",
       "1610612753   776  \n",
       "1610612756   788  "
      ]
     },
     "execution_count": 48,
     "metadata": {},
     "output_type": "execute_result"
    }
   ],
   "source": [
    "A = e.LeagueDashTeamStats(season=\"2024-25\",measure_type_detailed_defense=\"Advanced\",date_from_nullable='2024-11-03',date_to_nullable='2024-11-18').get_data_frames()[0]\n",
    "A.loc[:,['TEAM_ID','TEAM_NAME','GP','W','L','MIN','OFF_RATING','DEF_RATING','PACE','POSS']].set_index(\"TEAM_ID\").iloc[[21,23]]"
   ]
  },
  {
   "cell_type": "code",
   "execution_count": 50,
   "id": "ec4279a0",
   "metadata": {},
   "outputs": [
    {
     "name": "stdout",
     "output_type": "stream",
     "text": [
      "over/under 211.97\n"
     ]
    }
   ],
   "source": [
    "o1,o2,d1,d2,p1,p2 = 106.2,112.8,99.4,117.7,97.25,97.17\n",
    "o = (o1+o2)/2\n",
    "d = (d1+d2)/2\n",
    "p = (p1+p2)/2\n",
    "estimator = p*(o+d)/100\n",
    "print(\"over/under\",round(estimator,2))"
   ]
  },
  {
   "cell_type": "markdown",
   "id": "67ff32a1",
   "metadata": {},
   "source": [
    "\n",
    " As you can see, our new guess for over/under is a little better.\n",
    " But there are some other factors coming into play here\n",
    " One, both teams are traveling west. The Suns played in Minnesota yesterday, and the Magic are coming off a homestand in Orlando\n",
    " Moving all the way to Phoenix Arizona and changing timezones should affect them, at least a little bit.\n",
    " So the discrepancy that's left between 211.96 and the current line (209.5, now 212.5) can be due to multiple factors\n",
    " It could be due to sharp bettors trying to get in early on the under bet, or it could be due to the sportsbooks calculating in timezone travel and days rest, among other factors\n",
    " As a NBA betting nerd, I am excited to find out what actually happens.\n",
    " If anything, I expect each team to have about 97 possessions during regulation time (they clearly both average that many in 48 minutes)."
   ]
  },
  {
   "cell_type": "markdown",
   "id": "e97f6cbf",
   "metadata": {},
   "source": [
    "### Another way to estimate the over/under using OnOffDetails"
   ]
  },
  {
   "cell_type": "code",
   "execution_count": 51,
   "id": "50aa6643",
   "metadata": {},
   "outputs": [],
   "source": [
    "def get_on_off(team_id):\n",
    "    df = e.TeamPlayerOnOffDetails(team_id=team_id,season='2024-25',measure_type_detailed_defense=\"Advanced\").get_data_frames()\n",
    "    ON,OFF = df[1],df[2]\n",
    "    return pd.concat([ON,OFF])\n",
    "\n",
    "PHX_ID = 1610612756\n",
    "ORL_ID = 1610612753\n",
    "PHX = get_on_off(PHX_ID)\n",
    "ORL = get_on_off(ORL_ID)"
   ]
  },
  {
   "cell_type": "code",
   "execution_count": 52,
   "id": "3e8bc425",
   "metadata": {},
   "outputs": [
    {
     "data": {
      "text/html": [
       "<div>\n",
       "<style scoped>\n",
       "    .dataframe tbody tr th:only-of-type {\n",
       "        vertical-align: middle;\n",
       "    }\n",
       "\n",
       "    .dataframe tbody tr th {\n",
       "        vertical-align: top;\n",
       "    }\n",
       "\n",
       "    .dataframe thead th {\n",
       "        text-align: right;\n",
       "    }\n",
       "</style>\n",
       "<table border=\"1\" class=\"dataframe\">\n",
       "  <thead>\n",
       "    <tr style=\"text-align: right;\">\n",
       "      <th></th>\n",
       "      <th>TEAM_ABBREVIATION</th>\n",
       "      <th>VS_PLAYER_NAME</th>\n",
       "      <th>COURT_STATUS</th>\n",
       "      <th>MIN</th>\n",
       "      <th>OFF_RATING</th>\n",
       "      <th>DEF_RATING</th>\n",
       "      <th>PACE</th>\n",
       "    </tr>\n",
       "  </thead>\n",
       "  <tbody>\n",
       "    <tr>\n",
       "      <th>1</th>\n",
       "      <td>ORL</td>\n",
       "      <td>Banchero, Paolo</td>\n",
       "      <td>On</td>\n",
       "      <td>182.0</td>\n",
       "      <td>115.5</td>\n",
       "      <td>107.8</td>\n",
       "      <td>101.83</td>\n",
       "    </tr>\n",
       "    <tr>\n",
       "      <th>5</th>\n",
       "      <td>ORL</td>\n",
       "      <td>Carter Jr., Wendell</td>\n",
       "      <td>On</td>\n",
       "      <td>158.0</td>\n",
       "      <td>115.5</td>\n",
       "      <td>105.1</td>\n",
       "      <td>101.59</td>\n",
       "    </tr>\n",
       "    <tr>\n",
       "      <th>1</th>\n",
       "      <td>ORL</td>\n",
       "      <td>Banchero, Paolo</td>\n",
       "      <td>Off</td>\n",
       "      <td>490.0</td>\n",
       "      <td>105.1</td>\n",
       "      <td>101.0</td>\n",
       "      <td>98.19</td>\n",
       "    </tr>\n",
       "    <tr>\n",
       "      <th>5</th>\n",
       "      <td>ORL</td>\n",
       "      <td>Carter Jr., Wendell</td>\n",
       "      <td>Off</td>\n",
       "      <td>514.0</td>\n",
       "      <td>105.5</td>\n",
       "      <td>102.4</td>\n",
       "      <td>98.39</td>\n",
       "    </tr>\n",
       "  </tbody>\n",
       "</table>\n",
       "</div>"
      ],
      "text/plain": [
       "  TEAM_ABBREVIATION       VS_PLAYER_NAME COURT_STATUS    MIN  OFF_RATING  \\\n",
       "1               ORL      Banchero, Paolo           On  182.0       115.5   \n",
       "5               ORL  Carter Jr., Wendell           On  158.0       115.5   \n",
       "1               ORL      Banchero, Paolo          Off  490.0       105.1   \n",
       "5               ORL  Carter Jr., Wendell          Off  514.0       105.5   \n",
       "\n",
       "   DEF_RATING    PACE  \n",
       "1       107.8  101.83  \n",
       "5       105.1  101.59  \n",
       "1       101.0   98.19  \n",
       "5       102.4   98.39  "
      ]
     },
     "execution_count": 52,
     "metadata": {},
     "output_type": "execute_result"
    }
   ],
   "source": [
    "BANCHERO_ID = 1631094\n",
    "WENDELL_ID = 1628976\n",
    "A = ORL['VS_PLAYER_ID'].isin([BANCHERO_ID,WENDELL_ID])\n",
    "cols = ['TEAM_ABBREVIATION','VS_PLAYER_NAME','COURT_STATUS','MIN','OFF_RATING','DEF_RATING','PACE']\n",
    "ORL.loc[A,cols]"
   ]
  },
  {
   "cell_type": "markdown",
   "id": "715d7fd6",
   "metadata": {},
   "source": [
    "The Magic play a lot slower without Banchero in their lineup.\n",
    "\n",
    "They are averaging 101.83 possessions per 48 minutes (PACE) when he's ON the floor and 98.19 when OFF."
   ]
  },
  {
   "cell_type": "code",
   "execution_count": 53,
   "id": "5980a635",
   "metadata": {},
   "outputs": [],
   "source": [
    "orl_pace = (98.19+98.39)/2\n",
    "orl_drtg = (101.0+102.4)/2\n",
    "orl_ortg = (105.1+105.5)/2"
   ]
  },
  {
   "cell_type": "code",
   "execution_count": 54,
   "id": "3f248519",
   "metadata": {},
   "outputs": [
    {
     "data": {
      "text/html": [
       "<div>\n",
       "<style scoped>\n",
       "    .dataframe tbody tr th:only-of-type {\n",
       "        vertical-align: middle;\n",
       "    }\n",
       "\n",
       "    .dataframe tbody tr th {\n",
       "        vertical-align: top;\n",
       "    }\n",
       "\n",
       "    .dataframe thead th {\n",
       "        text-align: right;\n",
       "    }\n",
       "</style>\n",
       "<table border=\"1\" class=\"dataframe\">\n",
       "  <thead>\n",
       "    <tr style=\"text-align: right;\">\n",
       "      <th></th>\n",
       "      <th>TEAM_ABBREVIATION</th>\n",
       "      <th>VS_PLAYER_NAME</th>\n",
       "      <th>COURT_STATUS</th>\n",
       "      <th>MIN</th>\n",
       "      <th>OFF_RATING</th>\n",
       "      <th>DEF_RATING</th>\n",
       "      <th>PACE</th>\n",
       "    </tr>\n",
       "  </thead>\n",
       "  <tbody>\n",
       "    <tr>\n",
       "      <th>1</th>\n",
       "      <td>PHX</td>\n",
       "      <td>Beal, Bradley</td>\n",
       "      <td>On</td>\n",
       "      <td>313.0</td>\n",
       "      <td>113.2</td>\n",
       "      <td>114.5</td>\n",
       "      <td>99.81</td>\n",
       "    </tr>\n",
       "    <tr>\n",
       "      <th>6</th>\n",
       "      <td>PHX</td>\n",
       "      <td>Durant, Kevin</td>\n",
       "      <td>On</td>\n",
       "      <td>349.0</td>\n",
       "      <td>113.7</td>\n",
       "      <td>111.0</td>\n",
       "      <td>99.50</td>\n",
       "    </tr>\n",
       "    <tr>\n",
       "      <th>1</th>\n",
       "      <td>PHX</td>\n",
       "      <td>Beal, Bradley</td>\n",
       "      <td>Off</td>\n",
       "      <td>369.0</td>\n",
       "      <td>108.5</td>\n",
       "      <td>109.5</td>\n",
       "      <td>99.99</td>\n",
       "    </tr>\n",
       "    <tr>\n",
       "      <th>6</th>\n",
       "      <td>PHX</td>\n",
       "      <td>Durant, Kevin</td>\n",
       "      <td>Off</td>\n",
       "      <td>333.0</td>\n",
       "      <td>109.5</td>\n",
       "      <td>114.7</td>\n",
       "      <td>98.46</td>\n",
       "    </tr>\n",
       "  </tbody>\n",
       "</table>\n",
       "</div>"
      ],
      "text/plain": [
       "  TEAM_ABBREVIATION VS_PLAYER_NAME COURT_STATUS    MIN  OFF_RATING  \\\n",
       "1               PHX  Beal, Bradley           On  313.0       113.2   \n",
       "6               PHX  Durant, Kevin           On  349.0       113.7   \n",
       "1               PHX  Beal, Bradley          Off  369.0       108.5   \n",
       "6               PHX  Durant, Kevin          Off  333.0       109.5   \n",
       "\n",
       "   DEF_RATING   PACE  \n",
       "1       114.5  99.81  \n",
       "6       111.0  99.50  \n",
       "1       109.5  99.99  \n",
       "6       114.7  98.46  "
      ]
     },
     "execution_count": 54,
     "metadata": {},
     "output_type": "execute_result"
    }
   ],
   "source": [
    "PHX\n",
    "KD_ID = 201142\n",
    "BEAL_ID = 203078\n",
    "A = PHX['VS_PLAYER_ID'].isin([KD_ID,BEAL_ID])\n",
    "cols = ['TEAM_ABBREVIATION','VS_PLAYER_NAME','COURT_STATUS','MIN','OFF_RATING','DEF_RATING','PACE']\n",
    "PHX.loc[A,cols]"
   ]
  },
  {
   "cell_type": "markdown",
   "id": "4d5220ba",
   "metadata": {},
   "source": [
    "Without KD or without Beal, the suns PACE does not change, but their offensive ratings and defensive ratings do. Since *both* players are out, it's a little harder to calculate the pace of play. I am just going to take the average ratings of when they are off the floor, even though having them both out of the lineup probably makes the a lot worse."
   ]
  },
  {
   "cell_type": "code",
   "execution_count": 55,
   "id": "7781692b",
   "metadata": {},
   "outputs": [],
   "source": [
    "import numpy as np\n",
    "phx_pace = np.mean([99.99,98.46]) \n",
    "phx_drtg = np.mean([109.5,114.7])\n",
    "phx_ortg = np.mean([108.5,109.5])"
   ]
  },
  {
   "cell_type": "code",
   "execution_count": 60,
   "id": "adb3b68a",
   "metadata": {},
   "outputs": [
    {
     "name": "stdout",
     "output_type": "stream",
     "text": [
      "over/under 208.08\n"
     ]
    }
   ],
   "source": [
    "# estimator for over/under\n",
    "pace = np.mean([orl_pace,phx_pace])\n",
    "o = np.mean([orl_ortg,phx_ortg])\n",
    "d = np.mean([orl_drtg,phx_drtg])\n",
    "estimator = p*(o+d)/100\n",
    "print(\"over/under\",round(estimator,2))"
   ]
  },
  {
   "cell_type": "markdown",
   "id": "1b9285bb",
   "metadata": {},
   "source": [
    "This estimate is lower. This may be due to small sample size, or..."
   ]
  },
  {
   "cell_type": "markdown",
   "id": "7cfa52c0",
   "metadata": {},
   "source": [
    "### One more thing: The possibility of OT\n",
    "\n",
    "The frequency of overtime games that have spreads set near -4.5 is about $6$\\%. This is *not to be ignored*! \n",
    "\n",
    "Our current estimate for the *over/under* assumes the game is $48$ minutes. This is because \n",
    "\n",
    "PACE = POSSESSIONS / 48 minutes  "
   ]
  },
  {
   "cell_type": "code",
   "execution_count": 61,
   "id": "45282d98",
   "metadata": {},
   "outputs": [
    {
     "name": "stdout",
     "output_type": "stream",
     "text": [
      "over/under 209.38\n"
     ]
    }
   ],
   "source": [
    "ot_estimator = .94*estimator+.06*(53/48)*estimator\n",
    "print(\"over/under\",round(ot_estimator,2))"
   ]
  },
  {
   "cell_type": "markdown",
   "id": "9c0794c6",
   "metadata": {},
   "source": [
    "This is my final number. Hence, i'll take the under &#x1F600;"
   ]
  }
 ],
 "metadata": {
  "kernelspec": {
   "display_name": "Python 3",
   "language": "python",
   "name": "python3"
  },
  "language_info": {
   "codemirror_mode": {
    "name": "ipython",
    "version": 3
   },
   "file_extension": ".py",
   "mimetype": "text/x-python",
   "name": "python",
   "nbconvert_exporter": "python",
   "pygments_lexer": "ipython3",
   "version": "3.9.2"
  }
 },
 "nbformat": 4,
 "nbformat_minor": 5
}

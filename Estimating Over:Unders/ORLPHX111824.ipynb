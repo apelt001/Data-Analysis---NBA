{
 "cells": [
  {
   "cell_type": "markdown",
   "id": "4e4a9820",
   "metadata": {},
   "source": [
    "### Improving an estimator for the BetMGM's Over/Under\n",
    " My current prediction method takes into account offensive rating, defensive rating, and pace of play\n",
    " However, it does not take into account lineup changes.\n",
    " Here is an example of where this can be an issue:\n",
    " The Phoenix Suns - Orlando Magic current over/under is set at 209.5 by BetMGM (see Yahoo Sports)\n",
    " This is much lower than my guess\n"
   ]
  },
  {
   "cell_type": "code",
   "execution_count": 12,
   "id": "3ef2945c",
   "metadata": {},
   "outputs": [],
   "source": [
    "import pandas as pd\n",
    "import nba_api.stats.endpoints as e\n",
    "import warnings\n",
    "warnings.filterwarnings('ignore')"
   ]
  },
  {
   "cell_type": "code",
   "execution_count": 13,
   "id": "376b131a",
   "metadata": {},
   "outputs": [
    {
     "data": {
      "text/html": [
       "<div>\n",
       "<style scoped>\n",
       "    .dataframe tbody tr th:only-of-type {\n",
       "        vertical-align: middle;\n",
       "    }\n",
       "\n",
       "    .dataframe tbody tr th {\n",
       "        vertical-align: top;\n",
       "    }\n",
       "\n",
       "    .dataframe thead th {\n",
       "        text-align: right;\n",
       "    }\n",
       "</style>\n",
       "<table border=\"1\" class=\"dataframe\">\n",
       "  <thead>\n",
       "    <tr style=\"text-align: right;\">\n",
       "      <th></th>\n",
       "      <th>TEAM_NAME</th>\n",
       "      <th>GP</th>\n",
       "      <th>W</th>\n",
       "      <th>L</th>\n",
       "      <th>MIN</th>\n",
       "      <th>OFF_RATING</th>\n",
       "      <th>DEF_RATING</th>\n",
       "      <th>PACE</th>\n",
       "      <th>POSS</th>\n",
       "    </tr>\n",
       "    <tr>\n",
       "      <th>TEAM_ID</th>\n",
       "      <th></th>\n",
       "      <th></th>\n",
       "      <th></th>\n",
       "      <th></th>\n",
       "      <th></th>\n",
       "      <th></th>\n",
       "      <th></th>\n",
       "      <th></th>\n",
       "      <th></th>\n",
       "    </tr>\n",
       "  </thead>\n",
       "  <tbody>\n",
       "    <tr>\n",
       "      <th>1610612753</th>\n",
       "      <td>Orlando Magic</td>\n",
       "      <td>14</td>\n",
       "      <td>8</td>\n",
       "      <td>6</td>\n",
       "      <td>672.0</td>\n",
       "      <td>108.3</td>\n",
       "      <td>103.5</td>\n",
       "      <td>98.75</td>\n",
       "      <td>1379</td>\n",
       "    </tr>\n",
       "    <tr>\n",
       "      <th>1610612756</th>\n",
       "      <td>Phoenix Suns</td>\n",
       "      <td>14</td>\n",
       "      <td>9</td>\n",
       "      <td>5</td>\n",
       "      <td>682.0</td>\n",
       "      <td>112.3</td>\n",
       "      <td>113.4</td>\n",
       "      <td>98.46</td>\n",
       "      <td>1400</td>\n",
       "    </tr>\n",
       "  </tbody>\n",
       "</table>\n",
       "</div>"
      ],
      "text/plain": [
       "                TEAM_NAME  GP  W  L    MIN  OFF_RATING  DEF_RATING   PACE  \\\n",
       "TEAM_ID                                                                     \n",
       "1610612753  Orlando Magic  14  8  6  672.0       108.3       103.5  98.75   \n",
       "1610612756   Phoenix Suns  14  9  5  682.0       112.3       113.4  98.46   \n",
       "\n",
       "            POSS  \n",
       "TEAM_ID           \n",
       "1610612753  1379  \n",
       "1610612756  1400  "
      ]
     },
     "execution_count": 13,
     "metadata": {},
     "output_type": "execute_result"
    }
   ],
   "source": [
    "A = e.LeagueDashTeamStats(season=\"2024-25\",measure_type_detailed_defense=\"Advanced\",date_from_nullable='2024-10-22',date_to_nullable='2024-11-18').get_data_frames()[0]\n",
    "A.loc[:,['TEAM_ID','TEAM_NAME','GP','W','L','MIN','OFF_RATING','DEF_RATING','PACE','POSS']].set_index(\"TEAM_ID\").iloc[[21,23]]"
   ]
  },
  {
   "cell_type": "code",
   "execution_count": 14,
   "id": "3f22319f",
   "metadata": {},
   "outputs": [
    {
     "name": "stdout",
     "output_type": "stream",
     "text": [
      "215.69843749999995\n"
     ]
    }
   ],
   "source": [
    "o1,o2,d1,d2,p1,p2 = 108.3,112.3,103.5,113.4,98.75,98.46\n",
    "p = (p1+p2)/2\n",
    "o = (o1+o2)/2\n",
    "d = (d1+d2)/2\n",
    "estimator = p*(o+d)/100\n",
    "print(estimator)"
   ]
  },
  {
   "cell_type": "markdown",
   "id": "e627e85a",
   "metadata": {},
   "source": [
    "\n",
    " There are many factors that my guess is not taking into account, one of those being lineup changes\n",
    " For the Magic, Banchero has been out since Oct 31 and Wendell Carter Jr since Nov 3rd\n",
    " For the Suns, Durant has been out since Nov 8th and Bradley Beal since Nov 12\n",
    " Let's try and take this into account by changing how I get the offensive ratings, defensive ratings, and paces for each team.\n",
    " I can adjust the date_to and date_from parameters to obtain more recent data only\n"
   ]
  },
  {
   "cell_type": "code",
   "execution_count": 15,
   "id": "103f4ccd",
   "metadata": {},
   "outputs": [
    {
     "data": {
      "text/html": [
       "<div>\n",
       "<style scoped>\n",
       "    .dataframe tbody tr th:only-of-type {\n",
       "        vertical-align: middle;\n",
       "    }\n",
       "\n",
       "    .dataframe tbody tr th {\n",
       "        vertical-align: top;\n",
       "    }\n",
       "\n",
       "    .dataframe thead th {\n",
       "        text-align: right;\n",
       "    }\n",
       "</style>\n",
       "<table border=\"1\" class=\"dataframe\">\n",
       "  <thead>\n",
       "    <tr style=\"text-align: right;\">\n",
       "      <th></th>\n",
       "      <th>TEAM_NAME</th>\n",
       "      <th>GP</th>\n",
       "      <th>W</th>\n",
       "      <th>L</th>\n",
       "      <th>MIN</th>\n",
       "      <th>OFF_RATING</th>\n",
       "      <th>DEF_RATING</th>\n",
       "      <th>PACE</th>\n",
       "      <th>POSS</th>\n",
       "    </tr>\n",
       "    <tr>\n",
       "      <th>TEAM_ID</th>\n",
       "      <th></th>\n",
       "      <th></th>\n",
       "      <th></th>\n",
       "      <th></th>\n",
       "      <th></th>\n",
       "      <th></th>\n",
       "      <th></th>\n",
       "      <th></th>\n",
       "      <th></th>\n",
       "    </tr>\n",
       "  </thead>\n",
       "  <tbody>\n",
       "    <tr>\n",
       "      <th>1610612753</th>\n",
       "      <td>Orlando Magic</td>\n",
       "      <td>8</td>\n",
       "      <td>5</td>\n",
       "      <td>3</td>\n",
       "      <td>384.0</td>\n",
       "      <td>106.2</td>\n",
       "      <td>99.4</td>\n",
       "      <td>97.25</td>\n",
       "      <td>776</td>\n",
       "    </tr>\n",
       "    <tr>\n",
       "      <th>1610612756</th>\n",
       "      <td>Phoenix Suns</td>\n",
       "      <td>8</td>\n",
       "      <td>4</td>\n",
       "      <td>4</td>\n",
       "      <td>389.0</td>\n",
       "      <td>112.8</td>\n",
       "      <td>117.7</td>\n",
       "      <td>97.17</td>\n",
       "      <td>788</td>\n",
       "    </tr>\n",
       "  </tbody>\n",
       "</table>\n",
       "</div>"
      ],
      "text/plain": [
       "                TEAM_NAME  GP  W  L    MIN  OFF_RATING  DEF_RATING   PACE  \\\n",
       "TEAM_ID                                                                     \n",
       "1610612753  Orlando Magic   8  5  3  384.0       106.2        99.4  97.25   \n",
       "1610612756   Phoenix Suns   8  4  4  389.0       112.8       117.7  97.17   \n",
       "\n",
       "            POSS  \n",
       "TEAM_ID           \n",
       "1610612753   776  \n",
       "1610612756   788  "
      ]
     },
     "execution_count": 15,
     "metadata": {},
     "output_type": "execute_result"
    }
   ],
   "source": [
    "A = e.LeagueDashTeamStats(season=\"2024-25\",measure_type_detailed_defense=\"Advanced\",date_from_nullable='2024-11-03',date_to_nullable='2024-11-18').get_data_frames()[0]\n",
    "A.loc[:,['TEAM_ID','TEAM_NAME','GP','W','L','MIN','OFF_RATING','DEF_RATING','PACE','POSS']].set_index(\"TEAM_ID\").iloc[[21,23]]"
   ]
  },
  {
   "cell_type": "code",
   "execution_count": 16,
   "id": "ad22aa9c",
   "metadata": {},
   "outputs": [
    {
     "name": "stdout",
     "output_type": "stream",
     "text": [
      "211.966405\n"
     ]
    }
   ],
   "source": [
    "o1,o2,d1,d2,p1,p2 = 106.2,112.8,99.4,117.7,97.25,97.17\n",
    "o = (o1+o2)/2\n",
    "d = (d1+d2)/2\n",
    "p = (p1+p2)/2\n",
    "estimator = p*(o+d)/100\n",
    "print(estimator)"
   ]
  },
  {
   "cell_type": "markdown",
   "id": "74c18053",
   "metadata": {},
   "source": [
    "\n",
    " As you can see, our new guess for over/under is a little better.\n",
    " But there are some other factors coming into play here\n",
    " One, both teams are traveling west. The Suns played in Minnesota yesterday, and the Magic are coming off a homestand in Orlando\n",
    " Moving all the way to Phoenix Arizona and changing timezones should affect them, at least a little bit.\n",
    " So the discrepancy that's left between 211.96 and the current line (209.5) can be due to multiple factors\n",
    " It could be due to sharp bettors trying to get in early on the under bet, or it could be due to the sportsbooks calculating in timezone travel and days rest, among other factors\n",
    " As a NBA betting nerd, I am excited to find out what actually happens.\n",
    " If anything, I expect each team to have about 97 possessions during regulation time"
   ]
  },
  {
   "cell_type": "code",
   "execution_count": null,
   "id": "a67c6bbb",
   "metadata": {},
   "outputs": [],
   "source": []
  }
 ],
 "metadata": {
  "kernelspec": {
   "display_name": "Python 3",
   "language": "python",
   "name": "python3"
  },
  "language_info": {
   "codemirror_mode": {
    "name": "ipython",
    "version": 3
   },
   "file_extension": ".py",
   "mimetype": "text/x-python",
   "name": "python",
   "nbconvert_exporter": "python",
   "pygments_lexer": "ipython3",
   "version": "3.9.2"
  }
 },
 "nbformat": 4,
 "nbformat_minor": 5
}

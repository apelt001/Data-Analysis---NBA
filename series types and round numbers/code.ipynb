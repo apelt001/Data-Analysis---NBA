{
 "cells": [
  {
   "cell_type": "markdown",
   "id": "08a94b88-09c9-4278-bbed-93edb94debd3",
   "metadata": {},
   "source": [
    "# Making use of Playoff Game Logs <img src=\"playoffs.jpeg\" style=\"height:100px\" align = 'right' />\n",
    "\n",
    "We're looking at historical NBA playoff series data, on a period by period level. I will go through how I pull the data using python's [nba_api](https://github.com/swar/nba_api) package. We will look at data from seasons `1996-97` through `2024-25`."
   ]
  },
  {
   "cell_type": "code",
   "execution_count": 23,
   "id": "f5520688-e758-493d-9f21-a5bc54baf422",
   "metadata": {},
   "outputs": [],
   "source": [
    "import nba_api.stats.endpoints as nba\n",
    "import pandas as pd\n",
    "import time\n",
    "from nba_api.stats.static import teams"
   ]
  },
  {
   "cell_type": "markdown",
   "id": "24239a5a-d88d-4903-8486-06223b51fe26",
   "metadata": {},
   "source": [
    "Using `TeamGameLogs`, we can pull historical game logs from previous seasons."
   ]
  },
  {
   "cell_type": "code",
   "execution_count": 24,
   "id": "77b9f901-20b0-41d3-a7e7-e429556a16fc",
   "metadata": {},
   "outputs": [],
   "source": [
    "def get_game_log(season,measure_type=\"Base\",stype = \"Playoffs\",location = None):\n",
    "\tdf = nba.TeamGameLogs(season_nullable=season,location_nullable = location,measure_type_player_game_logs_nullable=measure_type,season_type_nullable = stype).get_data_frames()[0]\n",
    "\tdf = df.rename(columns = {\"TEAM_ABBREVIATION\":\"team\",\"GAME_DATE\":\"date\"})\n",
    "\treturn df"
   ]
  },
  {
   "cell_type": "code",
   "execution_count": 25,
   "id": "ef609b5a-8a88-4eaf-8a36-1ceec1a418a8",
   "metadata": {},
   "outputs": [],
   "source": [
    "seasons = [str(i)+'-'+str(i+1)[2:] for i in range(1996,2025)]\n",
    "season = seasons[0]\n",
    "df = get_game_log(season)\n",
    "for season in seasons[1:]:\n",
    "\tP = get_game_log(season)\n",
    "\tdf = pd.concat([df,P])\n",
    "\ttime.sleep(0.5)"
   ]
  },
  {
   "cell_type": "markdown",
   "id": "639fde79-bf40-43b7-aaf1-9d7acaa964f3",
   "metadata": {},
   "source": [
    "## Wrangling until we have the right setup\n",
    "This is the \"not-so fun\" part, but we will create some useful columns. I'll create the following columns:\n",
    "- `opp` = Opponent Team abbreviation\n",
    "- `is_home` = **True** if game is at home, **False** if away\n",
    "- `game_no` = **1** for first game of the series, **2** for the second, etc..\n",
    "- `round_no` = **1** (first round), **2** (conference semfinals), **3** (conference finals), and **4** (finals)\n",
    "- `series` - current series standing (e.g. **3-1** if the team is up **3-1** going into the game)\n",
    "- `total_games` - total number of games the series went to.\n",
    "- `has_home_court` - **True** if a team has home court in the series, **False** otherwise."
   ]
  },
  {
   "cell_type": "code",
   "execution_count": 26,
   "id": "e5ad1ebf-eef1-40d7-bd47-9791e552e5ea",
   "metadata": {},
   "outputs": [],
   "source": [
    "df['is_home'] = df['MATCHUP'].str.contains(\"vs.\")\n",
    "df = df.rename(columns = {\"SEASON_YEAR\":\"season\",'GAME_DATE':\"date\"})\n",
    "df['opp'] = df['MATCHUP'].apply(lambda x: x.split(' ')[-1])\n",
    "df['date'] = pd.to_datetime(df['date'])\n",
    "df = df.sort_values(\"date\")"
   ]
  },
  {
   "cell_type": "markdown",
   "id": "b763512a-96f8-4172-a0d0-faa73085810f",
   "metadata": {},
   "source": [
    "To create the `game_no` column, I need to groupby `season`,`team` and `series_matchup`. First, I create a `series_matchup` to get a unique identifier for each series.\n"
   ]
  },
  {
   "cell_type": "code",
   "execution_count": 27,
   "id": "ba81dbc1-8be6-490d-9ffd-c1cc6d6cd626",
   "metadata": {},
   "outputs": [],
   "source": [
    "def get_matchup(s):\n",
    "    S = s.split(' ')\n",
    "    S = sorted([S[0],S[-1]])\n",
    "    return S[0]+'-'+S[1]\n",
    "df['series_matchup'] = df['MATCHUP'].apply(get_matchup)\n",
    "\n",
    "# Create the game_no column\n",
    "df['counter'] = 1\n",
    "df['game_no'] = df.groupby(['season','team','series_matchup'])['counter'].cumsum()\n",
    "df = df.drop(columns = ['counter'])"
   ]
  },
  {
   "cell_type": "markdown",
   "id": "696b2de4-5701-4e3c-a542-fb35c572ba8f",
   "metadata": {},
   "source": [
    "Now to create the `series` column, I first create `series_wins` and `series_losses` columns. Then I will concatenate the two joined by a *-* in between."
   ]
  },
  {
   "cell_type": "code",
   "execution_count": 28,
   "id": "142c3974-6253-4653-9fad-8e895a903eac",
   "metadata": {},
   "outputs": [],
   "source": [
    "# get the current number of series wins\n",
    "df['win'] = 0\n",
    "df.loc[df['WL']=='W','win'] = 1\n",
    "df['series_wins'] = df.groupby(['season','team','series_matchup'])['win'].transform(lambda x: x.cumsum().shift().fillna(0))\n",
    "df['series_wins'] = df['series_wins'].astype(int)\n",
    "\n",
    "#get the current number of series losses\n",
    "df['loss'] = 0\n",
    "df.loc[df['WL']=='L','loss'] = 1\n",
    "df['series_losses'] = df.groupby(['season','team','series_matchup'])['loss'].transform(lambda x: x.cumsum().shift().fillna(0))\n",
    "df['series_losses'] = df['series_losses'].astype(int)\n",
    "\n",
    "\n",
    "\n",
    "# create a 'series' column (represents what the series is at going into the game)\n",
    "def do_series(s):\n",
    "    w,l = s['series_wins'],s['series_losses']\n",
    "    return str(w)+'-'+str(l)\n",
    "df['series'] = df.apply(do_series,axis = 1)"
   ]
  },
  {
   "cell_type": "markdown",
   "id": "87f670af",
   "metadata": {},
   "source": [
    "To create the `round_no` column, I first create a dataframe that contains all the opponents a team faced that year. Then I return the index for that team (Note: this only works if your original DataFrame is correctly sorted by date.)"
   ]
  },
  {
   "cell_type": "code",
   "execution_count": 29,
   "id": "c34251de-b88e-49cd-8de0-77889684aaad",
   "metadata": {},
   "outputs": [],
   "source": [
    "# Create a 'round_no' column (1 = first round, 2 = second round, 3 = third round, 4 = fourth round)\n",
    "opps = df.groupby(['season','team'])['opp'].unique()\n",
    "def do(s):\n",
    "    season,team,opp = s['season'],s['team'],s['opp']\n",
    "    k = (season,team)\n",
    "    l = opps.loc[k].tolist()\n",
    "    return l.index(opp)+1\n",
    "df['round_no'] = df.apply(do,axis = 1)"
   ]
  },
  {
   "cell_type": "markdown",
   "id": "81048bac",
   "metadata": {},
   "source": [
    "Now to create the `total_games` column, I group by matchup and use the pandas' `.size()` method. This allows me to return the size of each group."
   ]
  },
  {
   "cell_type": "code",
   "execution_count": 30,
   "id": "cb8e2c42",
   "metadata": {},
   "outputs": [],
   "source": [
    "# get the total number of games\n",
    "totals = df.groupby(['season','team','series_matchup']).size()\n",
    "def get_num_games(s):\n",
    "    season,team,matchup = s['season'],s['team'],s['series_matchup']\n",
    "    k = (season,team,matchup)\n",
    "    return totals.loc[k]\n",
    "df['total_games'] = df.apply(get_num_games,axis = 1)\t\n"
   ]
  },
  {
   "cell_type": "markdown",
   "id": "558e5364",
   "metadata": {},
   "source": [
    "To create the `has_home_court` column, I look at the first game of each series to determine who has home court advantage."
   ]
  },
  {
   "cell_type": "code",
   "execution_count": 31,
   "id": "ec51e592",
   "metadata": {},
   "outputs": [],
   "source": [
    "# Create the 'has_home_court' in series column\n",
    "X = df.groupby(['season','team','series_matchup']).first()['is_home']\n",
    "X = X.reset_index()\n",
    "X = X.rename(columns = {'is_home':'has_home_court'})\n",
    "df = pd.merge(df,X, on = ['season','team','series_matchup'], how = 'left')"
   ]
  },
  {
   "cell_type": "markdown",
   "id": "c3bc46ac",
   "metadata": {},
   "source": [
    "# What can we do with our data?"
   ]
  },
  {
   "cell_type": "markdown",
   "id": "f0688a5d",
   "metadata": {},
   "source": [
    "Let's see what our added columns look like:"
   ]
  },
  {
   "cell_type": "code",
   "execution_count": 32,
   "id": "1129748a",
   "metadata": {},
   "outputs": [
    {
     "data": {
      "text/html": [
       "<div>\n",
       "<style scoped>\n",
       "    .dataframe tbody tr th:only-of-type {\n",
       "        vertical-align: middle;\n",
       "    }\n",
       "\n",
       "    .dataframe tbody tr th {\n",
       "        vertical-align: top;\n",
       "    }\n",
       "\n",
       "    .dataframe thead th {\n",
       "        text-align: right;\n",
       "    }\n",
       "</style>\n",
       "<table border=\"1\" class=\"dataframe\">\n",
       "  <thead>\n",
       "    <tr style=\"text-align: right;\">\n",
       "      <th></th>\n",
       "      <th>team</th>\n",
       "      <th>opp</th>\n",
       "      <th>is_home</th>\n",
       "      <th>has_home_court</th>\n",
       "      <th>game_no</th>\n",
       "      <th>round_no</th>\n",
       "      <th>series</th>\n",
       "      <th>WL</th>\n",
       "    </tr>\n",
       "    <tr>\n",
       "      <th>date</th>\n",
       "      <th></th>\n",
       "      <th></th>\n",
       "      <th></th>\n",
       "      <th></th>\n",
       "      <th></th>\n",
       "      <th></th>\n",
       "      <th></th>\n",
       "      <th></th>\n",
       "    </tr>\n",
       "  </thead>\n",
       "  <tbody>\n",
       "    <tr>\n",
       "      <th>2025-04-29</th>\n",
       "      <td>BOS</td>\n",
       "      <td>ORL</td>\n",
       "      <td>True</td>\n",
       "      <td>True</td>\n",
       "      <td>5</td>\n",
       "      <td>1</td>\n",
       "      <td>3-1</td>\n",
       "      <td>W</td>\n",
       "    </tr>\n",
       "    <tr>\n",
       "      <th>2025-04-29</th>\n",
       "      <td>NYK</td>\n",
       "      <td>DET</td>\n",
       "      <td>True</td>\n",
       "      <td>True</td>\n",
       "      <td>5</td>\n",
       "      <td>1</td>\n",
       "      <td>3-1</td>\n",
       "      <td>L</td>\n",
       "    </tr>\n",
       "    <tr>\n",
       "      <th>2025-04-29</th>\n",
       "      <td>LAC</td>\n",
       "      <td>DEN</td>\n",
       "      <td>False</td>\n",
       "      <td>False</td>\n",
       "      <td>5</td>\n",
       "      <td>1</td>\n",
       "      <td>2-2</td>\n",
       "      <td>L</td>\n",
       "    </tr>\n",
       "    <tr>\n",
       "      <th>2025-04-29</th>\n",
       "      <td>ORL</td>\n",
       "      <td>BOS</td>\n",
       "      <td>False</td>\n",
       "      <td>False</td>\n",
       "      <td>5</td>\n",
       "      <td>1</td>\n",
       "      <td>1-3</td>\n",
       "      <td>L</td>\n",
       "    </tr>\n",
       "    <tr>\n",
       "      <th>2025-04-29</th>\n",
       "      <td>DEN</td>\n",
       "      <td>LAC</td>\n",
       "      <td>True</td>\n",
       "      <td>True</td>\n",
       "      <td>5</td>\n",
       "      <td>1</td>\n",
       "      <td>2-2</td>\n",
       "      <td>W</td>\n",
       "    </tr>\n",
       "  </tbody>\n",
       "</table>\n",
       "</div>"
      ],
      "text/plain": [
       "           team  opp  is_home  has_home_court  game_no  round_no series WL\n",
       "date                                                                      \n",
       "2025-04-29  BOS  ORL     True            True        5         1    3-1  W\n",
       "2025-04-29  NYK  DET     True            True        5         1    3-1  L\n",
       "2025-04-29  LAC  DEN    False           False        5         1    2-2  L\n",
       "2025-04-29  ORL  BOS    False           False        5         1    1-3  L\n",
       "2025-04-29  DEN  LAC     True            True        5         1    2-2  W"
      ]
     },
     "execution_count": 32,
     "metadata": {},
     "output_type": "execute_result"
    }
   ],
   "source": [
    "df.loc[:,['date','team','opp','is_home','has_home_court','game_no','round_no','series','WL']].set_index('date').tail()"
   ]
  },
  {
   "cell_type": "markdown",
   "id": "387608bf",
   "metadata": {},
   "source": [
    "As you can see above, the last rows in our data are up-to-date: the **Celtics** were home last night against the **Magic** (Apr 29, 2025), they have home court in the series, and the series was at **3-1** going into the game. Meanwhile, the **Clippers** went into **Denver** tied **2-2**, they don't have home court in the series, and they lost last night."
   ]
  },
  {
   "cell_type": "markdown",
   "id": "14cec91b-b7e1-4674-bd10-1b1fe0314641",
   "metadata": {},
   "source": [
    "# How teams fare when leading 3-1\n",
    "\n",
    "Given that there are two games tonight (Apr 30 2025) with two more series at **3-1**, let's take a look at how teams up three games to one fare in game 5."
   ]
  },
  {
   "cell_type": "code",
   "execution_count": 33,
   "id": "52ca71c1-9d59-4dd2-8587-a6f57512a54f",
   "metadata": {},
   "outputs": [
    {
     "data": {
      "text/html": [
       "<div>\n",
       "<style scoped>\n",
       "    .dataframe tbody tr th:only-of-type {\n",
       "        vertical-align: middle;\n",
       "    }\n",
       "\n",
       "    .dataframe tbody tr th {\n",
       "        vertical-align: top;\n",
       "    }\n",
       "\n",
       "    .dataframe thead th {\n",
       "        text-align: right;\n",
       "    }\n",
       "</style>\n",
       "<table border=\"1\" class=\"dataframe\">\n",
       "  <thead>\n",
       "    <tr style=\"text-align: right;\">\n",
       "      <th></th>\n",
       "      <th>team</th>\n",
       "      <th>opp</th>\n",
       "      <th>is_home</th>\n",
       "      <th>WL</th>\n",
       "      <th>win</th>\n",
       "      <th>series</th>\n",
       "    </tr>\n",
       "    <tr>\n",
       "      <th>date</th>\n",
       "      <th></th>\n",
       "      <th></th>\n",
       "      <th></th>\n",
       "      <th></th>\n",
       "      <th></th>\n",
       "      <th></th>\n",
       "    </tr>\n",
       "  </thead>\n",
       "  <tbody>\n",
       "    <tr>\n",
       "      <th>2024-05-30</th>\n",
       "      <td>DAL</td>\n",
       "      <td>MIN</td>\n",
       "      <td>False</td>\n",
       "      <td>W</td>\n",
       "      <td>1</td>\n",
       "      <td>3-1</td>\n",
       "    </tr>\n",
       "    <tr>\n",
       "      <th>2024-06-17</th>\n",
       "      <td>BOS</td>\n",
       "      <td>DAL</td>\n",
       "      <td>True</td>\n",
       "      <td>W</td>\n",
       "      <td>1</td>\n",
       "      <td>3-1</td>\n",
       "    </tr>\n",
       "    <tr>\n",
       "      <th>2025-04-29</th>\n",
       "      <td>IND</td>\n",
       "      <td>MIL</td>\n",
       "      <td>True</td>\n",
       "      <td>W</td>\n",
       "      <td>1</td>\n",
       "      <td>3-1</td>\n",
       "    </tr>\n",
       "    <tr>\n",
       "      <th>2025-04-29</th>\n",
       "      <td>BOS</td>\n",
       "      <td>ORL</td>\n",
       "      <td>True</td>\n",
       "      <td>W</td>\n",
       "      <td>1</td>\n",
       "      <td>3-1</td>\n",
       "    </tr>\n",
       "    <tr>\n",
       "      <th>2025-04-29</th>\n",
       "      <td>NYK</td>\n",
       "      <td>DET</td>\n",
       "      <td>True</td>\n",
       "      <td>L</td>\n",
       "      <td>0</td>\n",
       "      <td>3-1</td>\n",
       "    </tr>\n",
       "  </tbody>\n",
       "</table>\n",
       "</div>"
      ],
      "text/plain": [
       "           team  opp  is_home WL  win series\n",
       "date                                        \n",
       "2024-05-30  DAL  MIN    False  W    1    3-1\n",
       "2024-06-17  BOS  DAL     True  W    1    3-1\n",
       "2025-04-29  IND  MIL     True  W    1    3-1\n",
       "2025-04-29  BOS  ORL     True  W    1    3-1\n",
       "2025-04-29  NYK  DET     True  L    0    3-1"
      ]
     },
     "execution_count": 33,
     "metadata": {},
     "output_type": "execute_result"
    }
   ],
   "source": [
    "FILTER = df['series'] == '3-1'\n",
    "df.loc[FILTER,['date','team','opp','is_home','WL','win','series']].set_index('date').tail()"
   ]
  },
  {
   "cell_type": "markdown",
   "id": "484e8dcb-60fc-4c5a-8a2d-cf697b9313d4",
   "metadata": {},
   "source": [
    "In four out of the last five times a team was up **3-1**, they closed out the series. Let's now calculate *how often* this occurs."
   ]
  },
  {
   "cell_type": "code",
   "execution_count": 34,
   "id": "15ea5e0e-9742-4928-b952-c8bfd5001272",
   "metadata": {},
   "outputs": [
    {
     "data": {
      "text/plain": [
       "W    106\n",
       "L     64\n",
       "Name: WL, dtype: int64"
      ]
     },
     "execution_count": 34,
     "metadata": {},
     "output_type": "execute_result"
    }
   ],
   "source": [
    "df.loc[FILTER]['WL'].value_counts()"
   ]
  },
  {
   "cell_type": "code",
   "execution_count": 35,
   "id": "980d8c5a-970c-48fa-b05b-d43072624ae8",
   "metadata": {},
   "outputs": [
    {
     "data": {
      "text/plain": [
       "0.6235294117647059"
      ]
     },
     "execution_count": 35,
     "metadata": {},
     "output_type": "execute_result"
    }
   ],
   "source": [
    "df.loc[FILTER]['win'].mean()"
   ]
  },
  {
   "cell_type": "markdown",
   "id": "fe35eb3c-227f-4aa7-9248-973716c93b9f",
   "metadata": {},
   "source": [
    "Teams up 3-1 win *62*% of the time. However, the two teams tonight (**Warriors** and **Timberwolves**) don't have home court in the series."
   ]
  },
  {
   "cell_type": "code",
   "execution_count": 37,
   "id": "5f0b6ec4-b0f7-414d-bbd1-44955b1d23d8",
   "metadata": {},
   "outputs": [
    {
     "data": {
      "text/plain": [
       "has_home_court  is_home\n",
       "False           False      0.260000\n",
       "                True       0.666667\n",
       "True            False      0.600000\n",
       "                True       0.785714\n",
       "Name: win, dtype: float64"
      ]
     },
     "execution_count": 37,
     "metadata": {},
     "output_type": "execute_result"
    }
   ],
   "source": [
    "df.loc[FILTER].groupby(['has_home_court','is_home'])['win'].mean()"
   ]
  },
  {
   "cell_type": "markdown",
   "id": "c369bd51-440a-4150-9b4c-f293c1cd1ed2",
   "metadata": {},
   "source": [
    "When you're up **3-1**, home court advantage in game 5 is a big factor. The winning percentage is near *80*% if at home, and near *26*% on the road. Compare that to the overall home court advantage of the playoffs:"
   ]
  },
  {
   "cell_type": "code",
   "execution_count": 38,
   "id": "88090b14-70b7-4ea5-9e53-85c8f9a8da68",
   "metadata": {},
   "outputs": [
    {
     "data": {
      "text/plain": [
       "has_home_court  is_home\n",
       "False           False      0.267303\n",
       "                True       0.505714\n",
       "True            False      0.494286\n",
       "                True       0.732697\n",
       "Name: win, dtype: float64"
      ]
     },
     "execution_count": 38,
     "metadata": {},
     "output_type": "execute_result"
    }
   ],
   "source": [
    "df.groupby(['has_home_court','is_home'])['win'].mean()"
   ]
  },
  {
   "cell_type": "markdown",
   "id": "f36fba65-0978-4e56-a1be-73f196b0c2a5",
   "metadata": {},
   "source": [
    "Teams with home court advantage playing at home win *73*% of the time."
   ]
  },
  {
   "cell_type": "markdown",
   "id": "b8653121-2fef-46fa-be4e-60d693b5409f",
   "metadata": {},
   "source": [
    "There are different ways one can use this data. The above mainly serves as a guide to how to make columns and process the data before using it."
   ]
  },
  {
   "cell_type": "markdown",
   "id": "faf36346",
   "metadata": {},
   "source": []
  }
 ],
 "metadata": {
  "kernelspec": {
   "display_name": "Python 3",
   "language": "python",
   "name": "python3"
  },
  "language_info": {
   "codemirror_mode": {
    "name": "ipython",
    "version": 3
   },
   "file_extension": ".py",
   "mimetype": "text/x-python",
   "name": "python",
   "nbconvert_exporter": "python",
   "pygments_lexer": "ipython3",
   "version": "3.9.6"
  }
 },
 "nbformat": 4,
 "nbformat_minor": 5
}
